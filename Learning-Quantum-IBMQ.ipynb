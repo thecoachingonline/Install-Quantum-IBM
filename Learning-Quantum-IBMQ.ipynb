{
 "cells": [
  {
   "cell_type": "code",
   "execution_count": 20,
   "id": "6b198837",
   "metadata": {},
   "outputs": [
    {
     "name": "stdout",
     "output_type": "stream",
     "text": [
      "Requirement already satisfied: qiskit in /usr/local/python/3.10.4/lib/python3.10/site-packages (0.42.1)\n",
      "Requirement already satisfied: qiskit-terra==0.23.3 in /usr/local/python/3.10.4/lib/python3.10/site-packages (from qiskit) (0.23.3)\n",
      "Requirement already satisfied: qiskit-ibmq-provider==0.20.2 in /usr/local/python/3.10.4/lib/python3.10/site-packages (from qiskit) (0.20.2)\n",
      "Requirement already satisfied: qiskit-aer==0.12.0 in /usr/local/python/3.10.4/lib/python3.10/site-packages (from qiskit) (0.12.0)\n",
      "Requirement already satisfied: scipy>=1.0 in /home/codespace/.local/lib/python3.10/site-packages (from qiskit-aer==0.12.0->qiskit) (1.10.1)\n",
      "Requirement already satisfied: numpy>=1.16.3 in /usr/local/python/3.10.4/lib/python3.10/site-packages (from qiskit-aer==0.12.0->qiskit) (1.23.5)\n",
      "Requirement already satisfied: urllib3>=1.21.1 in /home/codespace/.local/lib/python3.10/site-packages (from qiskit-ibmq-provider==0.20.2->qiskit) (1.26.15)\n",
      "Requirement already satisfied: requests>=2.19 in /home/codespace/.local/lib/python3.10/site-packages (from qiskit-ibmq-provider==0.20.2->qiskit) (2.28.2)\n",
      "Requirement already satisfied: websocket-client>=1.5.1 in /home/codespace/.local/lib/python3.10/site-packages (from qiskit-ibmq-provider==0.20.2->qiskit) (1.5.1)\n",
      "Requirement already satisfied: python-dateutil>=2.8.0 in /home/codespace/.local/lib/python3.10/site-packages (from qiskit-ibmq-provider==0.20.2->qiskit) (2.8.2)\n",
      "Requirement already satisfied: websockets>=10.0 in /usr/local/python/3.10.4/lib/python3.10/site-packages (from qiskit-ibmq-provider==0.20.2->qiskit) (11.0.1)\n",
      "Requirement already satisfied: requests-ntlm<=1.1.0 in /usr/local/python/3.10.4/lib/python3.10/site-packages (from qiskit-ibmq-provider==0.20.2->qiskit) (1.1.0)\n",
      "Requirement already satisfied: dill>=0.3 in /usr/local/python/3.10.4/lib/python3.10/site-packages (from qiskit-terra==0.23.3->qiskit) (0.3.6)\n",
      "Requirement already satisfied: sympy>=1.3 in /home/codespace/.local/lib/python3.10/site-packages (from qiskit-terra==0.23.3->qiskit) (1.11.1)\n",
      "Requirement already satisfied: rustworkx>=0.12.0 in /usr/local/python/3.10.4/lib/python3.10/site-packages (from qiskit-terra==0.23.3->qiskit) (0.12.1)\n",
      "Requirement already satisfied: symengine>=0.9 in /usr/local/python/3.10.4/lib/python3.10/site-packages (from qiskit-terra==0.23.3->qiskit) (0.10.0)\n",
      "Requirement already satisfied: psutil>=5 in /home/codespace/.local/lib/python3.10/site-packages (from qiskit-terra==0.23.3->qiskit) (5.9.4)\n",
      "Requirement already satisfied: stevedore>=3.0.0 in /usr/local/python/3.10.4/lib/python3.10/site-packages (from qiskit-terra==0.23.3->qiskit) (5.0.0)\n",
      "Requirement already satisfied: ply>=3.10 in /usr/local/python/3.10.4/lib/python3.10/site-packages (from qiskit-terra==0.23.3->qiskit) (3.11)\n",
      "Requirement already satisfied: six>=1.5 in /home/codespace/.local/lib/python3.10/site-packages (from python-dateutil>=2.8.0->qiskit-ibmq-provider==0.20.2->qiskit) (1.16.0)\n",
      "Requirement already satisfied: certifi>=2017.4.17 in /home/codespace/.local/lib/python3.10/site-packages (from requests>=2.19->qiskit-ibmq-provider==0.20.2->qiskit) (2022.12.7)\n",
      "Requirement already satisfied: charset-normalizer<4,>=2 in /home/codespace/.local/lib/python3.10/site-packages (from requests>=2.19->qiskit-ibmq-provider==0.20.2->qiskit) (3.1.0)\n",
      "Requirement already satisfied: idna<4,>=2.5 in /home/codespace/.local/lib/python3.10/site-packages (from requests>=2.19->qiskit-ibmq-provider==0.20.2->qiskit) (3.4)\n",
      "Requirement already satisfied: cryptography>=1.3 in /usr/local/python/3.10.4/lib/python3.10/site-packages (from requests-ntlm<=1.1.0->qiskit-ibmq-provider==0.20.2->qiskit) (40.0.2)\n",
      "Requirement already satisfied: ntlm-auth>=1.0.2 in /usr/local/python/3.10.4/lib/python3.10/site-packages (from requests-ntlm<=1.1.0->qiskit-ibmq-provider==0.20.2->qiskit) (1.5.0)\n",
      "Requirement already satisfied: pbr!=2.1.0,>=2.0.0 in /usr/local/python/3.10.4/lib/python3.10/site-packages (from stevedore>=3.0.0->qiskit-terra==0.23.3->qiskit) (5.11.1)\n",
      "Requirement already satisfied: mpmath>=0.19 in /home/codespace/.local/lib/python3.10/site-packages (from sympy>=1.3->qiskit-terra==0.23.3->qiskit) (1.3.0)\n",
      "Requirement already satisfied: cffi>=1.12 in /home/codespace/.local/lib/python3.10/site-packages (from cryptography>=1.3->requests-ntlm<=1.1.0->qiskit-ibmq-provider==0.20.2->qiskit) (1.15.1)\n",
      "Requirement already satisfied: pycparser in /home/codespace/.local/lib/python3.10/site-packages (from cffi>=1.12->cryptography>=1.3->requests-ntlm<=1.1.0->qiskit-ibmq-provider==0.20.2->qiskit) (2.21)\n",
      "\n",
      "\u001b[1m[\u001b[0m\u001b[34;49mnotice\u001b[0m\u001b[1;39;49m]\u001b[0m\u001b[39;49m A new release of pip is available: \u001b[0m\u001b[31;49m23.0.1\u001b[0m\u001b[39;49m -> \u001b[0m\u001b[32;49m23.1\u001b[0m\n",
      "\u001b[1m[\u001b[0m\u001b[34;49mnotice\u001b[0m\u001b[1;39;49m]\u001b[0m\u001b[39;49m To update, run: \u001b[0m\u001b[32;49mpip install --upgrade pip\u001b[0m\n",
      "Note: you may need to restart the kernel to use updated packages.\n"
     ]
    }
   ],
   "source": [
    "pip install qiskit"
   ]
  },
  {
   "cell_type": "code",
   "execution_count": 21,
   "id": "495a9f25",
   "metadata": {},
   "outputs": [
    {
     "name": "stdout",
     "output_type": "stream",
     "text": [
      "Requirement already satisfied: matplotlib in /home/codespace/.local/lib/python3.10/site-packages (3.7.1)\n",
      "Requirement already satisfied: kiwisolver>=1.0.1 in /home/codespace/.local/lib/python3.10/site-packages (from matplotlib) (1.4.4)\n",
      "Requirement already satisfied: numpy>=1.20 in /usr/local/python/3.10.4/lib/python3.10/site-packages (from matplotlib) (1.23.5)\n",
      "Requirement already satisfied: cycler>=0.10 in /home/codespace/.local/lib/python3.10/site-packages (from matplotlib) (0.11.0)\n",
      "Requirement already satisfied: pyparsing>=2.3.1 in /home/codespace/.local/lib/python3.10/site-packages (from matplotlib) (3.0.9)\n",
      "Requirement already satisfied: contourpy>=1.0.1 in /home/codespace/.local/lib/python3.10/site-packages (from matplotlib) (1.0.7)\n",
      "Requirement already satisfied: pillow>=6.2.0 in /home/codespace/.local/lib/python3.10/site-packages (from matplotlib) (9.5.0)\n",
      "Requirement already satisfied: packaging>=20.0 in /home/codespace/.local/lib/python3.10/site-packages (from matplotlib) (23.0)\n",
      "Requirement already satisfied: python-dateutil>=2.7 in /home/codespace/.local/lib/python3.10/site-packages (from matplotlib) (2.8.2)\n",
      "Requirement already satisfied: fonttools>=4.22.0 in /home/codespace/.local/lib/python3.10/site-packages (from matplotlib) (4.39.3)\n",
      "Requirement already satisfied: six>=1.5 in /home/codespace/.local/lib/python3.10/site-packages (from python-dateutil>=2.7->matplotlib) (1.16.0)\n",
      "\n",
      "\u001b[1m[\u001b[0m\u001b[34;49mnotice\u001b[0m\u001b[1;39;49m]\u001b[0m\u001b[39;49m A new release of pip is available: \u001b[0m\u001b[31;49m23.0.1\u001b[0m\u001b[39;49m -> \u001b[0m\u001b[32;49m23.1\u001b[0m\n",
      "\u001b[1m[\u001b[0m\u001b[34;49mnotice\u001b[0m\u001b[1;39;49m]\u001b[0m\u001b[39;49m To update, run: \u001b[0m\u001b[32;49mpip install --upgrade pip\u001b[0m\n",
      "Note: you may need to restart the kernel to use updated packages.\n"
     ]
    }
   ],
   "source": [
    "pip install matplotlib"
   ]
  },
  {
   "cell_type": "code",
   "execution_count": 22,
   "id": "faa48c7f",
   "metadata": {},
   "outputs": [],
   "source": [
    "import qiskit"
   ]
  },
  {
   "cell_type": "code",
   "execution_count": 23,
   "id": "c068529c",
   "metadata": {},
   "outputs": [
    {
     "data": {
      "text/plain": [
       "{'qiskit-terra': '0.23.3', 'qiskit-aer': '0.12.0', 'qiskit-ignis': None, 'qiskit-ibmq-provider': '0.20.2', 'qiskit': '0.42.1', 'qiskit-nature': None, 'qiskit-finance': None, 'qiskit-optimization': None, 'qiskit-machine-learning': None}"
      ]
     },
     "execution_count": 23,
     "metadata": {},
     "output_type": "execute_result"
    }
   ],
   "source": [
    "qiskit.__qiskit_version__"
   ]
  },
  {
   "cell_type": "code",
   "execution_count": 24,
   "id": "614cda2c",
   "metadata": {},
   "outputs": [],
   "source": [
    "from qiskit import IBMQ"
   ]
  },
  {
   "cell_type": "code",
   "execution_count": 25,
   "id": "4edcbcd1",
   "metadata": {},
   "outputs": [
    {
     "name": "stderr",
     "output_type": "stream",
     "text": [
      "/tmp/ipykernel_1073/3933123782.py:1: DeprecationWarning: The qiskit.IBMQ entrypoint and the qiskit-ibmq-provider package (accessible from 'qiskit.providers.ibmq`) are deprecated and will be removed in a future release. Instead you should use the qiskit-ibm-provider package which is accessible from 'qiskit_ibm_provider'. You can install it with 'pip install qiskit_ibm_provider'. Just replace 'qiskit.IBMQ' with 'qiskit_ibm_provider.IBMProvider'\n",
      "  IBMQ.save_account('691b4770171e172645199ac45d87f446b5528af263e509c8a4beada26aa31afd58a3fca0bc48fb3406ca7a6a395e5cda2f9741671db2b82757b3f8ebeb18cc22')\n",
      "configrc.store_credentials:WARNING:2023-04-16 05:52:02,997: Credentials already present. Set overwrite=True to overwrite.\n"
     ]
    }
   ],
   "source": [
    "IBMQ.save_account('')"
   ]
  },
  {
   "cell_type": "code",
   "execution_count": 26,
   "id": "82b24434",
   "metadata": {},
   "outputs": [
    {
     "data": {
      "text/plain": [
       "<AccountProvider for IBMQ(hub='ibm-q', group='open', project='main')>"
      ]
     },
     "execution_count": 26,
     "metadata": {},
     "output_type": "execute_result"
    }
   ],
   "source": [
    "IBMQ.load_account()"
   ]
  },
  {
   "cell_type": "markdown",
   "id": "d621822f",
   "metadata": {},
   "source": []
  },
  {
   "cell_type": "markdown",
   "id": "a2ee273b",
   "metadata": {},
   "source": [
    "สวัสดีชาวโลก | Hello World"
   ]
  },
  {
   "cell_type": "code",
   "execution_count": 27,
   "id": "55f914c0",
   "metadata": {},
   "outputs": [],
   "source": [
    "from qiskit import *"
   ]
  },
  {
   "cell_type": "code",
   "execution_count": 28,
   "id": "4460d228",
   "metadata": {},
   "outputs": [],
   "source": [
    "qr = QuantumRegister(2)"
   ]
  },
  {
   "cell_type": "code",
   "execution_count": 29,
   "id": "3396d7b8",
   "metadata": {},
   "outputs": [],
   "source": [
    "cr = ClassicalRegister(2)"
   ]
  },
  {
   "cell_type": "code",
   "execution_count": 30,
   "id": "683d1c46",
   "metadata": {},
   "outputs": [],
   "source": [
    "circuit = QuantumCircuit(qr, cr)"
   ]
  },
  {
   "cell_type": "code",
   "execution_count": 31,
   "id": "be022126",
   "metadata": {},
   "outputs": [],
   "source": [
    "%matplotlib inline"
   ]
  },
  {
   "cell_type": "code",
   "execution_count": 32,
   "id": "612fc99b",
   "metadata": {},
   "outputs": [
    {
     "data": {
      "text/html": [
       "<pre style=\"word-wrap: normal;white-space: pre;background: #fff0;line-height: 1.1;font-family: &quot;Courier New&quot;,Courier,monospace\">      \n",
       "q5_0: \n",
       "      \n",
       "q5_1: \n",
       "      \n",
       "c0: 2/\n",
       "      </pre>"
      ],
      "text/plain": [
       "      \n",
       "q5_0: \n",
       "      \n",
       "q5_1: \n",
       "      \n",
       "c0: 2/\n",
       "      "
      ]
     },
     "execution_count": 32,
     "metadata": {},
     "output_type": "execute_result"
    }
   ],
   "source": [
    "circuit.draw()"
   ]
  },
  {
   "cell_type": "code",
   "execution_count": 33,
   "id": "44b762b4",
   "metadata": {},
   "outputs": [
    {
     "data": {
      "text/plain": [
       "<qiskit.circuit.instructionset.InstructionSet at 0x7fb6b9695ab0>"
      ]
     },
     "execution_count": 33,
     "metadata": {},
     "output_type": "execute_result"
    }
   ],
   "source": [
    "circuit.h(qr[0])"
   ]
  },
  {
   "cell_type": "code",
   "execution_count": 34,
   "id": "320a14b2",
   "metadata": {},
   "outputs": [
    {
     "data": {
      "text/html": [
       "<pre style=\"word-wrap: normal;white-space: pre;background: #fff0;line-height: 1.1;font-family: &quot;Courier New&quot;,Courier,monospace\">      ┌───┐\n",
       "q5_0: ┤ H ├\n",
       "      └───┘\n",
       "q5_1: ─────\n",
       "           \n",
       "c0: 2/═════\n",
       "           </pre>"
      ],
      "text/plain": [
       "      ┌───┐\n",
       "q5_0: ┤ H ├\n",
       "      └───┘\n",
       "q5_1: ─────\n",
       "           \n",
       "c0: 2/═════\n",
       "           "
      ]
     },
     "execution_count": 34,
     "metadata": {},
     "output_type": "execute_result"
    }
   ],
   "source": [
    "circuit.draw()"
   ]
  },
  {
   "cell_type": "code",
   "execution_count": 35,
   "id": "67d99725",
   "metadata": {},
   "outputs": [
    {
     "data": {
      "text/plain": [
       "<qiskit.circuit.instructionset.InstructionSet at 0x7fb6b9695d50>"
      ]
     },
     "execution_count": 35,
     "metadata": {},
     "output_type": "execute_result"
    }
   ],
   "source": [
    "circuit.cx(qr[0], qr[1])"
   ]
  },
  {
   "cell_type": "code",
   "execution_count": 36,
   "id": "4ec7bff8",
   "metadata": {},
   "outputs": [
    {
     "data": {
      "text/html": [
       "<pre style=\"word-wrap: normal;white-space: pre;background: #fff0;line-height: 1.1;font-family: &quot;Courier New&quot;,Courier,monospace\">      ┌───┐     \n",
       "q5_0: ┤ H ├──■──\n",
       "      └───┘┌─┴─┐\n",
       "q5_1: ─────┤ X ├\n",
       "           └───┘\n",
       "c0: 2/══════════\n",
       "                </pre>"
      ],
      "text/plain": [
       "      ┌───┐     \n",
       "q5_0: ┤ H ├──■──\n",
       "      └───┘┌─┴─┐\n",
       "q5_1: ─────┤ X ├\n",
       "           └───┘\n",
       "c0: 2/══════════\n",
       "                "
      ]
     },
     "execution_count": 36,
     "metadata": {},
     "output_type": "execute_result"
    }
   ],
   "source": [
    "circuit.draw()"
   ]
  },
  {
   "cell_type": "code",
   "execution_count": 37,
   "id": "b9af1b78",
   "metadata": {},
   "outputs": [
    {
     "data": {
      "text/plain": [
       "<qiskit.circuit.instructionset.InstructionSet at 0x7fb6b9695840>"
      ]
     },
     "execution_count": 37,
     "metadata": {},
     "output_type": "execute_result"
    }
   ],
   "source": [
    "circuit.measure(qr, cr)"
   ]
  },
  {
   "cell_type": "code",
   "execution_count": 38,
   "id": "dced64e0",
   "metadata": {},
   "outputs": [
    {
     "data": {
      "text/html": [
       "<pre style=\"word-wrap: normal;white-space: pre;background: #fff0;line-height: 1.1;font-family: &quot;Courier New&quot;,Courier,monospace\">      ┌───┐     ┌─┐   \n",
       "q5_0: ┤ H ├──■──┤M├───\n",
       "      └───┘┌─┴─┐└╥┘┌─┐\n",
       "q5_1: ─────┤ X ├─╫─┤M├\n",
       "           └───┘ ║ └╥┘\n",
       "c0: 2/═══════════╩══╩═\n",
       "                 0  1 </pre>"
      ],
      "text/plain": [
       "      ┌───┐     ┌─┐   \n",
       "q5_0: ┤ H ├──■──┤M├───\n",
       "      └───┘┌─┴─┐└╥┘┌─┐\n",
       "q5_1: ─────┤ X ├─╫─┤M├\n",
       "           └───┘ ║ └╥┘\n",
       "c0: 2/═══════════╩══╩═\n",
       "                 0  1 "
      ]
     },
     "execution_count": 38,
     "metadata": {},
     "output_type": "execute_result"
    }
   ],
   "source": [
    "circuit.draw()"
   ]
  },
  {
   "cell_type": "code",
   "execution_count": 39,
   "id": "78c73acc",
   "metadata": {},
   "outputs": [],
   "source": [
    "simulator = Aer.get_backend('qasm_simulator')"
   ]
  },
  {
   "cell_type": "code",
   "execution_count": 40,
   "id": "cccda2d4",
   "metadata": {},
   "outputs": [],
   "source": [
    "result = execute(circuit, backend= simulator).result()"
   ]
  },
  {
   "cell_type": "code",
   "execution_count": 41,
   "id": "31d986c9",
   "metadata": {},
   "outputs": [],
   "source": [
    "from qiskit.tools.visualization import plot_histogram"
   ]
  },
  {
   "cell_type": "code",
   "execution_count": 42,
   "id": "5600ca6a",
   "metadata": {},
   "outputs": [
    {
     "data": {
      "image/png": "[encoded data removed]",
      "text/plain": [
       "<Figure size 700x500 with 1 Axes>"
      ]
     },
     "execution_count": 42,
     "metadata": {},
     "output_type": "execute_result"
    }
   ],
   "source": [
    "plot_histogram(result.get_counts(circuit))"
   ]
  },
  {
   "cell_type": "code",
   "execution_count": 43,
   "id": "412d14ca",
   "metadata": {},
   "outputs": [
    {
     "name": "stderr",
     "output_type": "stream",
     "text": [
      "ibmqfactory.load_account:WARNING:2023-04-16 05:52:13,768: Credentials are already in use. The existing account in the session will be replaced.\n"
     ]
    },
    {
     "data": {
      "text/plain": [
       "<AccountProvider for IBMQ(hub='ibm-q', group='open', project='main')>"
      ]
     },
     "execution_count": 43,
     "metadata": {},
     "output_type": "execute_result"
    }
   ],
   "source": [
    "IBMQ.load_account()"
   ]
  },
  {
   "cell_type": "code",
   "execution_count": 44,
   "id": "4a1973a3",
   "metadata": {},
   "outputs": [],
   "source": [
    "provider = IBMQ.get_provider('ibm-q')"
   ]
  },
  {
   "cell_type": "code",
   "execution_count": 45,
   "id": "72d1286a",
   "metadata": {},
   "outputs": [],
   "source": [
    "qcomp = provider.get_backend('ibmq_belem')"
   ]
  },
  {
   "cell_type": "code",
   "execution_count": 46,
   "id": "753e3430",
   "metadata": {},
   "outputs": [],
   "source": [
    "job = execute(circuit, backend=qcomp)"
   ]
  },
  {
   "cell_type": "code",
   "execution_count": 47,
   "id": "3f4297a8",
   "metadata": {},
   "outputs": [],
   "source": [
    "from qiskit.tools.monitor import job_monitor"
   ]
  },
  {
   "cell_type": "code",
   "execution_count": 48,
   "id": "33d0574b",
   "metadata": {},
   "outputs": [
    {
     "name": "stdout",
     "output_type": "stream",
     "text": [
      "Job Status: job has successfully run\n"
     ]
    }
   ],
   "source": [
    "job_monitor(job)"
   ]
  },
  {
   "cell_type": "code",
   "execution_count": 49,
   "id": "313df131",
   "metadata": {},
   "outputs": [],
   "source": [
    "result = job.result()"
   ]
  },
  {
   "cell_type": "code",
   "execution_count": 50,
   "id": "31810664",
   "metadata": {},
   "outputs": [
    {
     "data": {
      "image/png": "[encoded data removed]",
      "text/plain": [
       "<Figure size 700x500 with 1 Axes>"
      ]
     },
     "execution_count": 50,
     "metadata": {},
     "output_type": "execute_result"
    }
   ],
   "source": [
    "plot_histogram(result.get_counts(circuit))"
   ]
  },
  {
   "attachments": {},
   "cell_type": "markdown",
   "id": "3516f111",
   "metadata": {},
   "source": [
    "ลอจิกเกต | Gates"
   ]
  },
  {
   "cell_type": "code",
   "execution_count": 51,
   "id": "b0330cb4",
   "metadata": {},
   "outputs": [],
   "source": [
    "from qiskit import *"
   ]
  },
  {
   "cell_type": "code",
   "execution_count": 52,
   "id": "7440fade",
   "metadata": {},
   "outputs": [],
   "source": [
    "from qiskit.tools.visualization import  plot_bloch_multivector"
   ]
  },
  {
   "cell_type": "code",
   "execution_count": 53,
   "id": "a2b34257",
   "metadata": {},
   "outputs": [
    {
     "name": "stdout",
     "output_type": "stream",
     "text": [
      "Statevector([0.+0.j, 1.+0.j],\n",
      "            dims=(2,))\n"
     ]
    }
   ],
   "source": [
    "circuit = QuantumCircuit(1,1)\n",
    "circuit.x(0)\n",
    "simulator = Aer.get_backend('statevector_simulator')\n",
    "result = execute(circuit, backend= simulator).result()\n",
    "statevector = result.get_statevector()\n",
    "print(statevector)"
   ]
  },
  {
   "cell_type": "code",
   "execution_count": 54,
   "id": "182ae77d",
   "metadata": {},
   "outputs": [
    {
     "data": {
      "text/html": [
       "<pre style=\"word-wrap: normal;white-space: pre;background: #fff0;line-height: 1.1;font-family: &quot;Courier New&quot;,Courier,monospace\">     ┌───┐\n",
       "  q: ┤ X ├\n",
       "     └───┘\n",
       "c: 1/═════\n",
       "          </pre>"
      ],
      "text/plain": [
       "     ┌───┐\n",
       "  q: ┤ X ├\n",
       "     └───┘\n",
       "c: 1/═════\n",
       "          "
      ]
     },
     "execution_count": 54,
     "metadata": {},
     "output_type": "execute_result"
    }
   ],
   "source": [
    "circuit.draw()"
   ]
  },
  {
   "cell_type": "code",
   "execution_count": 55,
   "id": "4a600e3a",
   "metadata": {},
   "outputs": [
    {
     "data": {
      "image/png": "[encoded data removed]",
      "text/plain": [
       "<Figure size 480x480 with 1 Axes>"
      ]
     },
     "execution_count": 55,
     "metadata": {},
     "output_type": "execute_result"
    }
   ],
   "source": [
    "plot_bloch_multivector(statevector)"
   ]
  },
  {
   "cell_type": "code",
   "execution_count": 56,
   "id": "f2419d0e",
   "metadata": {},
   "outputs": [
    {
     "data": {
      "image/png": "[encoded data removed]",
      "text/plain": [
       "<Figure size 700x500 with 1 Axes>"
      ]
     },
     "execution_count": 56,
     "metadata": {},
     "output_type": "execute_result"
    }
   ],
   "source": [
    "circuit.measure([0], [0])\n",
    "backend = Aer.get_backend('qasm_simulator')\n",
    "result = execute(circuit, backend= backend, shots= 1024).result()\n",
    "counts = result.get_counts()\n",
    "from qiskit.tools.visualization import  plot_histogram\n",
    "plot_histogram(counts)"
   ]
  },
  {
   "cell_type": "code",
   "execution_count": 57,
   "id": "d341c8af",
   "metadata": {},
   "outputs": [
    {
     "name": "stdout",
     "output_type": "stream",
     "text": [
      "Operator([[0.+0.j, 1.+0.j],\n",
      "          [1.+0.j, 0.+0.j]],\n",
      "         input_dims=(2,), output_dims=(2,))\n"
     ]
    }
   ],
   "source": [
    "circuit = QuantumCircuit(1,1)\n",
    "circuit.x(0)\n",
    "simulator = Aer.get_backend('unitary_simulator')\n",
    "result = execute(circuit, backend= simulator).result()\n",
    "unitary = result.get_unitary()\n",
    "print(unitary)"
   ]
  },
  {
   "attachments": {},
   "cell_type": "markdown",
   "id": "cd3df13e",
   "metadata": {},
   "source": [
    "เทเลพอร์ต | Teleportation"
   ]
  },
  {
   "cell_type": "code",
   "execution_count": 58,
   "id": "5a9aea52",
   "metadata": {},
   "outputs": [],
   "source": [
    "from qiskit import *"
   ]
  },
  {
   "cell_type": "code",
   "execution_count": 59,
   "id": "0b49d483",
   "metadata": {},
   "outputs": [],
   "source": [
    "circuit = QuantumCircuit(3, 3)"
   ]
  },
  {
   "cell_type": "code",
   "execution_count": 60,
   "id": "4cfb087b",
   "metadata": {},
   "outputs": [],
   "source": [
    "%matplotlib inline"
   ]
  },
  {
   "cell_type": "code",
   "execution_count": 61,
   "id": "87afe216",
   "metadata": {},
   "outputs": [
    {
     "data": {
      "text/html": [
       "<pre style=\"word-wrap: normal;white-space: pre;background: #fff0;line-height: 1.1;font-family: &quot;Courier New&quot;,Courier,monospace\">     \n",
       "q_0: \n",
       "     \n",
       "q_1: \n",
       "     \n",
       "q_2: \n",
       "     \n",
       "c: 3/\n",
       "     </pre>"
      ],
      "text/plain": [
       "     \n",
       "q_0: \n",
       "     \n",
       "q_1: \n",
       "     \n",
       "q_2: \n",
       "     \n",
       "c: 3/\n",
       "     "
      ]
     },
     "execution_count": 61,
     "metadata": {},
     "output_type": "execute_result"
    }
   ],
   "source": [
    "circuit.draw()"
   ]
  },
  {
   "cell_type": "code",
   "execution_count": 62,
   "id": "93362c40",
   "metadata": {},
   "outputs": [
    {
     "data": {
      "text/html": [
       "<pre style=\"word-wrap: normal;white-space: pre;background: #fff0;line-height: 1.1;font-family: &quot;Courier New&quot;,Courier,monospace\">     ┌───┐ ░ \n",
       "q_0: ┤ X ├─░─\n",
       "     └───┘ ░ \n",
       "q_1: ──────░─\n",
       "           ░ \n",
       "q_2: ──────░─\n",
       "           ░ \n",
       "c: 3/════════\n",
       "             </pre>"
      ],
      "text/plain": [
       "     ┌───┐ ░ \n",
       "q_0: ┤ X ├─░─\n",
       "     └───┘ ░ \n",
       "q_1: ──────░─\n",
       "           ░ \n",
       "q_2: ──────░─\n",
       "           ░ \n",
       "c: 3/════════\n",
       "             "
      ]
     },
     "execution_count": 62,
     "metadata": {},
     "output_type": "execute_result"
    }
   ],
   "source": [
    "circuit.x(0)\n",
    "circuit.barrier()\n",
    "circuit.draw()"
   ]
  },
  {
   "cell_type": "code",
   "execution_count": 63,
   "id": "61019c7a",
   "metadata": {},
   "outputs": [
    {
     "data": {
      "text/plain": [
       "<qiskit.circuit.instructionset.InstructionSet at 0x7fb6c6d8fa90>"
      ]
     },
     "execution_count": 63,
     "metadata": {},
     "output_type": "execute_result"
    }
   ],
   "source": [
    "circuit.h(1)\n",
    "circuit.cx(1,2)"
   ]
  },
  {
   "cell_type": "code",
   "execution_count": 64,
   "id": "1776d21d",
   "metadata": {},
   "outputs": [
    {
     "data": {
      "text/html": [
       "<pre style=\"word-wrap: normal;white-space: pre;background: #fff0;line-height: 1.1;font-family: &quot;Courier New&quot;,Courier,monospace\">     ┌───┐ ░           \n",
       "q_0: ┤ X ├─░───────────\n",
       "     └───┘ ░ ┌───┐     \n",
       "q_1: ──────░─┤ H ├──■──\n",
       "           ░ └───┘┌─┴─┐\n",
       "q_2: ──────░──────┤ X ├\n",
       "           ░      └───┘\n",
       "c: 3/══════════════════\n",
       "                       </pre>"
      ],
      "text/plain": [
       "     ┌───┐ ░           \n",
       "q_0: ┤ X ├─░───────────\n",
       "     └───┘ ░ ┌───┐     \n",
       "q_1: ──────░─┤ H ├──■──\n",
       "           ░ └───┘┌─┴─┐\n",
       "q_2: ──────░──────┤ X ├\n",
       "           ░      └───┘\n",
       "c: 3/══════════════════\n",
       "                       "
      ]
     },
     "execution_count": 64,
     "metadata": {},
     "output_type": "execute_result"
    }
   ],
   "source": [
    "circuit.draw()"
   ]
  },
  {
   "cell_type": "code",
   "execution_count": 65,
   "id": "7b9d62ab",
   "metadata": {},
   "outputs": [
    {
     "data": {
      "text/html": [
       "<pre style=\"word-wrap: normal;white-space: pre;background: #fff0;line-height: 1.1;font-family: &quot;Courier New&quot;,Courier,monospace\">     ┌───┐ ░                ┌───┐\n",
       "q_0: ┤ X ├─░─────────────■──┤ H ├\n",
       "     └───┘ ░ ┌───┐     ┌─┴─┐└───┘\n",
       "q_1: ──────░─┤ H ├──■──┤ X ├─────\n",
       "           ░ └───┘┌─┴─┐└───┘     \n",
       "q_2: ──────░──────┤ X ├──────────\n",
       "           ░      └───┘          \n",
       "c: 3/════════════════════════════\n",
       "                                 </pre>"
      ],
      "text/plain": [
       "     ┌───┐ ░                ┌───┐\n",
       "q_0: ┤ X ├─░─────────────■──┤ H ├\n",
       "     └───┘ ░ ┌───┐     ┌─┴─┐└───┘\n",
       "q_1: ──────░─┤ H ├──■──┤ X ├─────\n",
       "           ░ └───┘┌─┴─┐└───┘     \n",
       "q_2: ──────░──────┤ X ├──────────\n",
       "           ░      └───┘          \n",
       "c: 3/════════════════════════════\n",
       "                                 "
      ]
     },
     "execution_count": 65,
     "metadata": {},
     "output_type": "execute_result"
    }
   ],
   "source": [
    "circuit.cx(0,1)\n",
    "circuit.h(0)\n",
    "circuit.draw()"
   ]
  },
  {
   "cell_type": "code",
   "execution_count": 66,
   "id": "32f96cb8",
   "metadata": {},
   "outputs": [
    {
     "data": {
      "text/html": [
       "<pre style=\"word-wrap: normal;white-space: pre;background: #fff0;line-height: 1.1;font-family: &quot;Courier New&quot;,Courier,monospace\">     ┌───┐ ░                ┌───┐ ░ ┌─┐   \n",
       "q_0: ┤ X ├─░─────────────■──┤ H ├─░─┤M├───\n",
       "     └───┘ ░ ┌───┐     ┌─┴─┐└───┘ ░ └╥┘┌─┐\n",
       "q_1: ──────░─┤ H ├──■──┤ X ├──────░──╫─┤M├\n",
       "           ░ └───┘┌─┴─┐└───┘      ░  ║ └╥┘\n",
       "q_2: ──────░──────┤ X ├───────────░──╫──╫─\n",
       "           ░      └───┘           ░  ║  ║ \n",
       "c: 3/════════════════════════════════╩══╩═\n",
       "                                     0  1 </pre>"
      ],
      "text/plain": [
       "     ┌───┐ ░                ┌───┐ ░ ┌─┐   \n",
       "q_0: ┤ X ├─░─────────────■──┤ H ├─░─┤M├───\n",
       "     └───┘ ░ ┌───┐     ┌─┴─┐└───┘ ░ └╥┘┌─┐\n",
       "q_1: ──────░─┤ H ├──■──┤ X ├──────░──╫─┤M├\n",
       "           ░ └───┘┌─┴─┐└───┘      ░  ║ └╥┘\n",
       "q_2: ──────░──────┤ X ├───────────░──╫──╫─\n",
       "           ░      └───┘           ░  ║  ║ \n",
       "c: 3/════════════════════════════════╩══╩═\n",
       "                                     0  1 "
      ]
     },
     "execution_count": 66,
     "metadata": {},
     "output_type": "execute_result"
    }
   ],
   "source": [
    "circuit.barrier()\n",
    "circuit.measure([0,1], [0,1])\n",
    "circuit.draw()"
   ]
  },
  {
   "cell_type": "code",
   "execution_count": 67,
   "id": "fe65f574",
   "metadata": {},
   "outputs": [
    {
     "data": {
      "text/html": [
       "<pre style=\"word-wrap: normal;white-space: pre;background: #fff0;line-height: 1.1;font-family: &quot;Courier New&quot;,Courier,monospace\">     ┌───┐ ░                ┌───┐ ░ ┌─┐    ░         \n",
       "q_0: ┤ X ├─░─────────────■──┤ H ├─░─┤M├────░───────■─\n",
       "     └───┘ ░ ┌───┐     ┌─┴─┐└───┘ ░ └╥┘┌─┐ ░       │ \n",
       "q_1: ──────░─┤ H ├──■──┤ X ├──────░──╫─┤M├─░───■───┼─\n",
       "           ░ └───┘┌─┴─┐└───┘      ░  ║ └╥┘ ░ ┌─┴─┐ │ \n",
       "q_2: ──────░──────┤ X ├───────────░──╫──╫──░─┤ X ├─■─\n",
       "           ░      └───┘           ░  ║  ║  ░ └───┘   \n",
       "c: 3/════════════════════════════════╩══╩════════════\n",
       "                                     0  1            </pre>"
      ],
      "text/plain": [
       "     ┌───┐ ░                ┌───┐ ░ ┌─┐    ░         \n",
       "q_0: ┤ X ├─░─────────────■──┤ H ├─░─┤M├────░───────■─\n",
       "     └───┘ ░ ┌───┐     ┌─┴─┐└───┘ ░ └╥┘┌─┐ ░       │ \n",
       "q_1: ──────░─┤ H ├──■──┤ X ├──────░──╫─┤M├─░───■───┼─\n",
       "           ░ └───┘┌─┴─┐└───┘      ░  ║ └╥┘ ░ ┌─┴─┐ │ \n",
       "q_2: ──────░──────┤ X ├───────────░──╫──╫──░─┤ X ├─■─\n",
       "           ░      └───┘           ░  ║  ║  ░ └───┘   \n",
       "c: 3/════════════════════════════════╩══╩════════════\n",
       "                                     0  1            "
      ]
     },
     "execution_count": 67,
     "metadata": {},
     "output_type": "execute_result"
    }
   ],
   "source": [
    "circuit.barrier()\n",
    "circuit.cx(1,2)\n",
    "circuit.cz(0,2)\n",
    "circuit.draw()"
   ]
  },
  {
   "cell_type": "code",
   "execution_count": 68,
   "id": "867a3428",
   "metadata": {},
   "outputs": [
    {
     "data": {
      "image/png": "[encoded data removed]",
      "text/plain": [
       "<Figure size 700x500 with 1 Axes>"
      ]
     },
     "execution_count": 68,
     "metadata": {},
     "output_type": "execute_result"
    }
   ],
   "source": [
    "circuit.measure(2,2)\n",
    "simulator = Aer.get_backend('qasm_simulator')\n",
    "result = execute(circuit, backend = simulator, shots = 1024).result()\n",
    "counts = result.get_counts()\n",
    "from qiskit.tools.visualization import plot_histogram\n",
    "plot_histogram(counts)"
   ]
  },
  {
   "cell_type": "code",
   "execution_count": 69,
   "id": "7774473c",
   "metadata": {},
   "outputs": [
    {
     "name": "stdout",
     "output_type": "stream",
     "text": [
      "{'101': 272, '110': 270, '111': 235, '100': 247}\n"
     ]
    }
   ],
   "source": [
    "print(counts)"
   ]
  },
  {
   "attachments": {},
   "cell_type": "markdown",
   "id": "07e69da2",
   "metadata": {},
   "source": [
    "อัลกอริทึม | Bernstein Vazirani"
   ]
  },
  {
   "cell_type": "code",
   "execution_count": 70,
   "id": "99b1ae03",
   "metadata": {},
   "outputs": [],
   "source": [
    "from qiskit import *\n",
    "%matplotlib inline\n",
    "from qiskit.tools.visualization import plot_histogram"
   ]
  },
  {
   "cell_type": "code",
   "execution_count": 71,
   "id": "a1f68a8b",
   "metadata": {},
   "outputs": [],
   "source": [
    "secretnumber = '101001'"
   ]
  },
  {
   "cell_type": "code",
   "execution_count": 72,
   "id": "f58edcb8",
   "metadata": {},
   "outputs": [
    {
     "data": {
      "text/plain": [
       "<qiskit.circuit.instructionset.InstructionSet at 0x7fb6b84f69b0>"
      ]
     },
     "execution_count": 72,
     "metadata": {},
     "output_type": "execute_result"
    }
   ],
   "source": [
    "circuit = QuantumCircuit(6+1, 6)\n",
    "\n",
    "circuit.h([0,1,2,3,4,5])\n",
    "circuit.x(6)\n",
    "circuit.h(6)\n",
    "\n",
    "circuit.barrier()\n",
    "\n",
    "circuit.cx(5, 6)\n",
    "circuit.cx(3, 6)\n",
    "circuit.cx(0, 6)\n",
    "\n",
    "circuit.barrier()\n",
    "circuit.h([0,1,2,3,4,5])\n",
    "circuit.barrier()\n",
    "circuit.measure([0,1,2,3,4,5], [0,1,2,3,4,5])"
   ]
  },
  {
   "cell_type": "code",
   "execution_count": 73,
   "id": "8dbf69da",
   "metadata": {},
   "outputs": [
    {
     "data": {
      "text/html": [
       "<pre style=\"word-wrap: normal;white-space: pre;background: #fff0;line-height: 1.1;font-family: &quot;Courier New&quot;,Courier,monospace\">     ┌───┐      ░                 ░ ┌───┐ ░ ┌─┐               \n",
       "q_0: ┤ H ├──────░─────────────■───░─┤ H ├─░─┤M├───────────────\n",
       "     ├───┤      ░             │   ░ ├───┤ ░ └╥┘┌─┐            \n",
       "q_1: ┤ H ├──────░─────────────┼───░─┤ H ├─░──╫─┤M├────────────\n",
       "     ├───┤      ░             │   ░ ├───┤ ░  ║ └╥┘┌─┐         \n",
       "q_2: ┤ H ├──────░─────────────┼───░─┤ H ├─░──╫──╫─┤M├─────────\n",
       "     ├───┤      ░             │   ░ ├───┤ ░  ║  ║ └╥┘┌─┐      \n",
       "q_3: ┤ H ├──────░────────■────┼───░─┤ H ├─░──╫──╫──╫─┤M├──────\n",
       "     ├───┤      ░        │    │   ░ ├───┤ ░  ║  ║  ║ └╥┘┌─┐   \n",
       "q_4: ┤ H ├──────░────────┼────┼───░─┤ H ├─░──╫──╫──╫──╫─┤M├───\n",
       "     ├───┤      ░        │    │   ░ ├───┤ ░  ║  ║  ║  ║ └╥┘┌─┐\n",
       "q_5: ┤ H ├──────░───■────┼────┼───░─┤ H ├─░──╫──╫──╫──╫──╫─┤M├\n",
       "     ├───┤┌───┐ ░ ┌─┴─┐┌─┴─┐┌─┴─┐ ░ └───┘ ░  ║  ║  ║  ║  ║ └╥┘\n",
       "q_6: ┤ X ├┤ H ├─░─┤ X ├┤ X ├┤ X ├─░───────░──╫──╫──╫──╫──╫──╫─\n",
       "     └───┘└───┘ ░ └───┘└───┘└───┘ ░       ░  ║  ║  ║  ║  ║  ║ \n",
       "c: 6/════════════════════════════════════════╩══╩══╩══╩══╩══╩═\n",
       "                                             0  1  2  3  4  5 </pre>"
      ],
      "text/plain": [
       "     ┌───┐      ░                 ░ ┌───┐ ░ ┌─┐               \n",
       "q_0: ┤ H ├──────░─────────────■───░─┤ H ├─░─┤M├───────────────\n",
       "     ├───┤      ░             │   ░ ├───┤ ░ └╥┘┌─┐            \n",
       "q_1: ┤ H ├──────░─────────────┼───░─┤ H ├─░──╫─┤M├────────────\n",
       "     ├───┤      ░             │   ░ ├───┤ ░  ║ └╥┘┌─┐         \n",
       "q_2: ┤ H ├──────░─────────────┼───░─┤ H ├─░──╫──╫─┤M├─────────\n",
       "     ├───┤      ░             │   ░ ├───┤ ░  ║  ║ └╥┘┌─┐      \n",
       "q_3: ┤ H ├──────░────────■────┼───░─┤ H ├─░──╫──╫──╫─┤M├──────\n",
       "     ├───┤      ░        │    │   ░ ├───┤ ░  ║  ║  ║ └╥┘┌─┐   \n",
       "q_4: ┤ H ├──────░────────┼────┼───░─┤ H ├─░──╫──╫──╫──╫─┤M├───\n",
       "     ├───┤      ░        │    │   ░ ├───┤ ░  ║  ║  ║  ║ └╥┘┌─┐\n",
       "q_5: ┤ H ├──────░───■────┼────┼───░─┤ H ├─░──╫──╫──╫──╫──╫─┤M├\n",
       "     ├───┤┌───┐ ░ ┌─┴─┐┌─┴─┐┌─┴─┐ ░ └───┘ ░  ║  ║  ║  ║  ║ └╥┘\n",
       "q_6: ┤ X ├┤ H ├─░─┤ X ├┤ X ├┤ X ├─░───────░──╫──╫──╫──╫──╫──╫─\n",
       "     └───┘└───┘ ░ └───┘└───┘└───┘ ░       ░  ║  ║  ║  ║  ║  ║ \n",
       "c: 6/════════════════════════════════════════╩══╩══╩══╩══╩══╩═\n",
       "                                             0  1  2  3  4  5 "
      ]
     },
     "execution_count": 73,
     "metadata": {},
     "output_type": "execute_result"
    }
   ],
   "source": [
    "circuit.draw()"
   ]
  },
  {
   "cell_type": "code",
   "execution_count": 74,
   "id": "b8923637",
   "metadata": {},
   "outputs": [
    {
     "name": "stdout",
     "output_type": "stream",
     "text": [
      "{'101001': 1}\n"
     ]
    }
   ],
   "source": [
    "simulator = Aer.get_backend('qasm_simulator')\n",
    "result = execute(circuit, backend= simulator, shots= 1).result()\n",
    "counts = result.get_counts()\n",
    "print(counts)"
   ]
  },
  {
   "attachments": {},
   "cell_type": "markdown",
   "id": "acc9a6d7",
   "metadata": {},
   "source": [
    "Programming on Quantum Computeres"
   ]
  }
 ],
 "metadata": {
  "kernelspec": {
   "display_name": "Python 3.10.7 64-bit",
   "language": "python",
   "name": "python3"
  },
  "language_info": {
   "codemirror_mode": {
    "name": "ipython",
    "version": 3
   },
   "file_extension": ".py",
   "mimetype": "text/x-python",
   "name": "python",
   "nbconvert_exporter": "python",
   "pygments_lexer": "ipython3",
   "version": "3.10.4"
  },
  "vscode": {
   "interpreter": {
    "hash": "767d51c1340bd893661ea55ea3124f6de3c7a262a8b4abca0554b478b1e2ff90"
   }
  }
 },
 "nbformat": 4,
 "nbformat_minor": 5
}
