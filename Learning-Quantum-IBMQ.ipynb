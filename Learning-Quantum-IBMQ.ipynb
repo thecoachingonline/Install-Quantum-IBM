{
 "cells": [
  {
   "cell_type": "code",
   "execution_count": null,
   "id": "6b198837",
   "metadata": {},
   "outputs": [],
   "source": [
    "pip install qiskit"
   ]
  },
  {
   "cell_type": "code",
   "execution_count": null,
   "id": "495a9f25",
   "metadata": {},
   "outputs": [],
   "source": [
    "pip install matplotlib"
   ]
  },
  {
   "cell_type": "code",
   "execution_count": null,
   "id": "faa48c7f",
   "metadata": {},
   "outputs": [],
   "source": [
    "import qiskit"
   ]
  },
  {
   "cell_type": "code",
   "execution_count": null,
   "id": "c068529c",
   "metadata": {},
   "outputs": [],
   "source": [
    "qiskit.__qiskit_version__"
   ]
  },
  {
   "cell_type": "code",
   "execution_count": null,
   "id": "614cda2c",
   "metadata": {},
   "outputs": [],
   "source": [
    "from qiskit import IBMQ"
   ]
  },
  {
   "cell_type": "code",
   "execution_count": null,
   "id": "4edcbcd1",
   "metadata": {},
   "outputs": [],
   "source": [
    "IBMQ.save_account('')"
   ]
  },
  {
   "cell_type": "code",
   "execution_count": null,
   "id": "82b24434",
   "metadata": {},
   "outputs": [],
   "source": [
    "IBMQ.load_account()"
   ]
  },
  {
   "cell_type": "markdown",
   "id": "d621822f",
   "metadata": {},
   "source": []
  },
  {
   "cell_type": "markdown",
   "id": "a2ee273b",
   "metadata": {},
   "source": [
    "สวัสดีชาวโลก | Hello World"
   ]
  },
  {
   "cell_type": "code",
   "execution_count": null,
   "id": "55f914c0",
   "metadata": {},
   "outputs": [],
   "source": [
    "from qiskit import *"
   ]
  },
  {
   "cell_type": "code",
   "execution_count": null,
   "id": "4460d228",
   "metadata": {},
   "outputs": [],
   "source": [
    "qr = QuantumRegister(2)"
   ]
  },
  {
   "cell_type": "code",
   "execution_count": null,
   "id": "3396d7b8",
   "metadata": {},
   "outputs": [],
   "source": [
    "cr = ClassicalRegister(2)"
   ]
  },
  {
   "cell_type": "code",
   "execution_count": null,
   "id": "683d1c46",
   "metadata": {},
   "outputs": [],
   "source": [
    "circuit = QuantumCircuit(qr, cr)"
   ]
  },
  {
   "cell_type": "code",
   "execution_count": null,
   "id": "be022126",
   "metadata": {},
   "outputs": [],
   "source": [
    "%matplotlib inline"
   ]
  },
  {
   "cell_type": "code",
   "execution_count": null,
   "id": "612fc99b",
   "metadata": {},
   "outputs": [],
   "source": [
    "circuit.draw()"
   ]
  },
  {
   "cell_type": "code",
   "execution_count": null,
   "id": "44b762b4",
   "metadata": {},
   "outputs": [],
   "source": [
    "circuit.h(qr[0])"
   ]
  },
  {
   "cell_type": "code",
   "execution_count": null,
   "id": "320a14b2",
   "metadata": {},
   "outputs": [],
   "source": [
    "circuit.draw()"
   ]
  },
  {
   "cell_type": "code",
   "execution_count": null,
   "id": "67d99725",
   "metadata": {},
   "outputs": [],
   "source": [
    "circuit.cx(qr[0], qr[1])"
   ]
  },
  {
   "cell_type": "code",
   "execution_count": null,
   "id": "4ec7bff8",
   "metadata": {},
   "outputs": [],
   "source": [
    "circuit.draw()"
   ]
  },
  {
   "cell_type": "code",
   "execution_count": null,
   "id": "b9af1b78",
   "metadata": {},
   "outputs": [],
   "source": [
    "circuit.measure(qr, cr)"
   ]
  },
  {
   "cell_type": "code",
   "execution_count": null,
   "id": "dced64e0",
   "metadata": {},
   "outputs": [],
   "source": [
    "circuit.draw()"
   ]
  },
  {
   "cell_type": "code",
   "execution_count": null,
   "id": "78c73acc",
   "metadata": {},
   "outputs": [],
   "source": [
    "simulator = Aer.get_backend('qasm_simulator')"
   ]
  },
  {
   "cell_type": "code",
   "execution_count": null,
   "id": "cccda2d4",
   "metadata": {},
   "outputs": [],
   "source": [
    "result = execute(circuit, backend= simulator).result()"
   ]
  },
  {
   "cell_type": "code",
   "execution_count": null,
   "id": "31d986c9",
   "metadata": {},
   "outputs": [],
   "source": [
    "from qiskit.tools.visualization import plot_histogram"
   ]
  },
  {
   "cell_type": "code",
   "execution_count": null,
   "id": "5600ca6a",
   "metadata": {},
   "outputs": [],
   "source": [
    "plot_histogram(result.get_counts(circuit))"
   ]
  },
  {
   "cell_type": "code",
   "execution_count": null,
   "id": "412d14ca",
   "metadata": {},
   "outputs": [],
   "source": [
    "IBMQ.load_account()"
   ]
  },
  {
   "cell_type": "code",
   "execution_count": null,
   "id": "4a1973a3",
   "metadata": {},
   "outputs": [],
   "source": [
    "provider = IBMQ.get_provider('ibm-q')"
   ]
  },
  {
   "cell_type": "code",
   "execution_count": null,
   "id": "72d1286a",
   "metadata": {},
   "outputs": [],
   "source": [
    "qcomp = provider.get_backend('simulator_mps') #100 Qubits"
   ]
  },
  {
   "cell_type": "code",
   "execution_count": null,
   "id": "753e3430",
   "metadata": {},
   "outputs": [],
   "source": [
    "job = execute(circuit, backend=qcomp)"
   ]
  },
  {
   "cell_type": "code",
   "execution_count": null,
   "id": "3f4297a8",
   "metadata": {},
   "outputs": [],
   "source": [
    "from qiskit.tools.monitor import job_monitor"
   ]
  },
  {
   "cell_type": "code",
   "execution_count": null,
   "id": "33d0574b",
   "metadata": {},
   "outputs": [],
   "source": [
    "job_monitor(job)"
   ]
  },
  {
   "cell_type": "code",
   "execution_count": null,
   "id": "313df131",
   "metadata": {},
   "outputs": [],
   "source": [
    "result = job.result()"
   ]
  },
  {
   "cell_type": "code",
   "execution_count": null,
   "id": "31810664",
   "metadata": {},
   "outputs": [],
   "source": [
    "plot_histogram(result.get_counts(circuit))"
   ]
  },
  {
   "attachments": {},
   "cell_type": "markdown",
   "id": "3516f111",
   "metadata": {},
   "source": [
    "ลอจิกเกต | Gates"
   ]
  },
  {
   "cell_type": "code",
   "execution_count": null,
   "id": "b0330cb4",
   "metadata": {},
   "outputs": [],
   "source": [
    "from qiskit import *"
   ]
  },
  {
   "cell_type": "code",
   "execution_count": null,
   "id": "7440fade",
   "metadata": {},
   "outputs": [],
   "source": [
    "from qiskit.tools.visualization import  plot_bloch_multivector"
   ]
  },
  {
   "cell_type": "code",
   "execution_count": null,
   "id": "a2b34257",
   "metadata": {},
   "outputs": [],
   "source": [
    "circuit = QuantumCircuit(1,1)\n",
    "circuit.x(0)\n",
    "simulator = Aer.get_backend('statevector_simulator')\n",
    "result = execute(circuit, backend= simulator).result()\n",
    "statevector = result.get_statevector()\n",
    "print(statevector)"
   ]
  },
  {
   "cell_type": "code",
   "execution_count": null,
   "id": "182ae77d",
   "metadata": {},
   "outputs": [],
   "source": [
    "circuit.draw()"
   ]
  },
  {
   "cell_type": "code",
   "execution_count": null,
   "id": "4a600e3a",
   "metadata": {},
   "outputs": [],
   "source": [
    "plot_bloch_multivector(statevector)"
   ]
  },
  {
   "cell_type": "code",
   "execution_count": null,
   "id": "f2419d0e",
   "metadata": {},
   "outputs": [],
   "source": [
    "circuit.measure([0], [0])\n",
    "backend = Aer.get_backend('qasm_simulator')\n",
    "result = execute(circuit, backend= backend, shots= 1024).result()\n",
    "counts = result.get_counts()\n",
    "from qiskit.tools.visualization import  plot_histogram\n",
    "plot_histogram(counts)"
   ]
  },
  {
   "cell_type": "code",
   "execution_count": null,
   "id": "d341c8af",
   "metadata": {},
   "outputs": [],
   "source": [
    "circuit = QuantumCircuit(1,1)\n",
    "circuit.x(0)\n",
    "simulator = Aer.get_backend('unitary_simulator')\n",
    "result = execute(circuit, backend= simulator).result()\n",
    "unitary = result.get_unitary()\n",
    "print(unitary)"
   ]
  },
  {
   "attachments": {},
   "cell_type": "markdown",
   "id": "cd3df13e",
   "metadata": {},
   "source": [
    "เทเลพอร์ต | Teleportation"
   ]
  },
  {
   "cell_type": "code",
   "execution_count": null,
   "id": "5a9aea52",
   "metadata": {},
   "outputs": [],
   "source": [
    "from qiskit import *"
   ]
  },
  {
   "cell_type": "code",
   "execution_count": null,
   "id": "0b49d483",
   "metadata": {},
   "outputs": [],
   "source": [
    "circuit = QuantumCircuit(3, 3)"
   ]
  },
  {
   "cell_type": "code",
   "execution_count": null,
   "id": "4cfb087b",
   "metadata": {},
   "outputs": [],
   "source": [
    "%matplotlib inline"
   ]
  },
  {
   "cell_type": "code",
   "execution_count": null,
   "id": "87afe216",
   "metadata": {},
   "outputs": [],
   "source": [
    "circuit.draw()"
   ]
  },
  {
   "cell_type": "code",
   "execution_count": null,
   "id": "93362c40",
   "metadata": {},
   "outputs": [],
   "source": [
    "circuit.x(0)\n",
    "circuit.barrier()\n",
    "circuit.draw()"
   ]
  },
  {
   "cell_type": "code",
   "execution_count": null,
   "id": "61019c7a",
   "metadata": {},
   "outputs": [],
   "source": [
    "circuit.h(1)\n",
    "circuit.cx(1,2)"
   ]
  },
  {
   "cell_type": "code",
   "execution_count": null,
   "id": "1776d21d",
   "metadata": {},
   "outputs": [],
   "source": [
    "circuit.draw()"
   ]
  },
  {
   "cell_type": "code",
   "execution_count": null,
   "id": "7b9d62ab",
   "metadata": {},
   "outputs": [],
   "source": [
    "circuit.cx(0,1)\n",
    "circuit.h(0)\n",
    "circuit.draw()"
   ]
  },
  {
   "cell_type": "code",
   "execution_count": null,
   "id": "32f96cb8",
   "metadata": {},
   "outputs": [],
   "source": [
    "circuit.barrier()\n",
    "circuit.measure([0,1], [0,1])\n",
    "circuit.draw()"
   ]
  },
  {
   "cell_type": "code",
   "execution_count": null,
   "id": "fe65f574",
   "metadata": {},
   "outputs": [],
   "source": [
    "circuit.barrier()\n",
    "circuit.cx(1,2)\n",
    "circuit.cz(0,2)\n",
    "circuit.draw()"
   ]
  },
  {
   "cell_type": "code",
   "execution_count": null,
   "id": "867a3428",
   "metadata": {},
   "outputs": [],
   "source": [
    "circuit.measure(2,2)\n",
    "simulator = Aer.get_backend('qasm_simulator')\n",
    "result = execute(circuit, backend = simulator, shots = 1024).result()\n",
    "counts = result.get_counts()\n",
    "from qiskit.tools.visualization import plot_histogram\n",
    "plot_histogram(counts)"
   ]
  },
  {
   "cell_type": "code",
   "execution_count": null,
   "id": "7774473c",
   "metadata": {},
   "outputs": [],
   "source": [
    "print(counts)"
   ]
  },
  {
   "attachments": {},
   "cell_type": "markdown",
   "id": "07e69da2",
   "metadata": {},
   "source": [
    "อัลกอริทึม | Bernstein Vazirani"
   ]
  },
  {
   "cell_type": "code",
   "execution_count": null,
   "id": "99b1ae03",
   "metadata": {},
   "outputs": [],
   "source": [
    "from qiskit import *\n",
    "%matplotlib inline\n",
    "from qiskit.tools.visualization import plot_histogram"
   ]
  },
  {
   "cell_type": "code",
   "execution_count": null,
   "id": "a1f68a8b",
   "metadata": {},
   "outputs": [],
   "source": [
    "secretnumber = '111000000001'"
   ]
  },
  {
   "cell_type": "code",
   "execution_count": null,
   "id": "f58edcb8",
   "metadata": {},
   "outputs": [],
   "source": [
    "#circuit = QuantumCircuit(6+1, 6)\n",
    "circuit = QuantumCircuit(len(secretnumber)+1, len(secretnumber))\n",
    "\n",
    "#circuit.h([0,1,2,3,4,5])\n",
    "circuit.h(range(len(secretnumber)))\n",
    "#circuit.x(6)\n",
    "circuit.x(len(secretnumber))\n",
    "#circuit.h(6)\n",
    "circuit.h(len(secretnumber))\n",
    "\n",
    "circuit.barrier()\n",
    "\n",
    "for ii, yesno in enumerate(reversed(secretnumber)):\n",
    "    if yesno == '1':\n",
    "        circuit.cx(ii, len(secretnumber))\n",
    "\n",
    "#circuit.cx(5, 6)\n",
    "#circuit.cx(3, 6)\n",
    "#circuit.cx(0, 6)\n",
    "\n",
    "circuit.barrier()\n",
    "#circuit.h([0,1,2,3,4,5])\n",
    "circuit.h(range(len(secretnumber)))\n",
    "circuit.barrier()\n",
    "#circuit.measure([0,1,2,3,4,5], [0,1,2,3,4,5])\n",
    "circuit.measure(range(len(secretnumber)), range(len(secretnumber)))"
   ]
  },
  {
   "cell_type": "code",
   "execution_count": null,
   "id": "8dbf69da",
   "metadata": {},
   "outputs": [],
   "source": [
    "circuit.draw()"
   ]
  },
  {
   "cell_type": "code",
   "execution_count": null,
   "id": "b8923637",
   "metadata": {},
   "outputs": [],
   "source": [
    "simulator = Aer.get_backend('qasm_simulator')\n",
    "result = execute(circuit, backend= simulator, shots= 1).result()\n",
    "counts = result.get_counts()\n",
    "print(counts)"
   ]
  },
  {
   "attachments": {},
   "cell_type": "markdown",
   "id": "acc9a6d7",
   "metadata": {},
   "source": [
    "Programming on Quantum Computeres"
   ]
  },
  {
   "cell_type": "code",
   "execution_count": null,
   "id": "99ea419d",
   "metadata": {},
   "outputs": [],
   "source": [
    "text = \"TheCoachingOnline\"\n",
    "binary_strings = []\n",
    "for char in text:\n",
    "    ascii_code = ord(char)\n",
    "    binary_string = bin(ascii_code)[2:].zfill(8)\n",
    "    binary_strings.append(binary_string)\n",
    "binary_text = \" \".join(binary_strings)\n",
    "print(binary_text)"
   ]
  },
  {
   "cell_type": "code",
   "execution_count": null,
   "id": "09677c18",
   "metadata": {},
   "outputs": [],
   "source": [
    "binary_text = \"01010100 01101000 01100101 01000011 01101111 01100001 01100011 01101000 01101001 01101110 01100111 01001111 01101110 01101100 01101001 01101110 01100101\"\n",
    "binary_strings = binary_text.split()\n",
    "text = \"\"\n",
    "for binary_string in binary_strings:\n",
    "    ascii_code = int(binary_string, 2)\n",
    "    char = chr(ascii_code)\n",
    "    text += char\n",
    "print(text)"
   ]
  },
  {
   "cell_type": "code",
   "execution_count": null,
   "id": "86d4e6a9",
   "metadata": {},
   "outputs": [],
   "source": [
    "pip install pycryptodome"
   ]
  },
  {
   "cell_type": "code",
   "execution_count": null,
   "id": "7bea5564",
   "metadata": {},
   "outputs": [],
   "source": [
    "from Crypto.Cipher import AES\n",
    "from Crypto.Util.Padding import pad, unpad\n",
    "\n",
    "# define the key and block size\n",
    "key = b\"MySecretPassword\"\n",
    "block_size = 16\n",
    "\n",
    "# the plaintext message to be encrypted\n",
    "plaintext = \"Y.Nanthachai!\"\n",
    "\n",
    "# convert the plaintext message to binary string in base 2\n",
    "binary_text = \"\".join([format(ord(char), '08b') for char in plaintext])\n",
    "\n",
    "# pad the binary text to the block size\n",
    "padded_binary_text = pad(binary_text.encode(), block_size)\n",
    "\n",
    "# create the AES cipher object\n",
    "cipher = AES.new(key, AES.MODE_ECB)\n",
    "\n",
    "# encrypt the padded binary text\n",
    "encrypted_binary_text = cipher.encrypt(padded_binary_text)\n",
    "\n",
    "# convert the encrypted binary text to binary string in base 2\n",
    "encrypted_binary_string = \"\".join([format(byte, '08b') for byte in encrypted_binary_text])\n",
    "\n",
    "# the binary string in base 2 that represents the encrypted message\n",
    "print(encrypted_binary_string)"
   ]
  },
  {
   "cell_type": "code",
   "execution_count": null,
   "id": "f9c9fa74",
   "metadata": {},
   "outputs": [],
   "source": [
    "from Crypto.Cipher import AES\n",
    "from Crypto.Util.Padding import pad, unpad\n",
    "\n",
    "# define the key and block size\n",
    "key = b\"MySecretPassword\"\n",
    "block_size = 16\n",
    "\n",
    "# the binary string in base 2 that represents the encrypted message\n",
    "encrypted_binary_string = \"01011110100010010101111100110100111101001110111111001010100000100010101101100111011100100110001011000110110111101011011110000110111111000010100010101001101010010001101100100111011110110010000001000001110011010111010011011001101001101011000001000000110110011100100111100111011100100010101111011000101000111011011001011110011100000100101101110000100001111101110110000111100001100001011111100111111101101111101001100011100110001111001100110100110000111101101000110010010101100111101001110110111111011010111011000111100001101010111110100101110011100011011100101111111011001001001000001011100100000000001010011011000000011000111110010011001000000000001110000001001001101101111101010101110011010011011001010101000101010001010110111001110101010000101100101000101001101100101111110111011000010000001000000100011000001001110010001010000010100100011100000000101111101001001010010010101111011110001011010111\"\n",
    "\n",
    "# convert the binary string to encrypted binary text\n",
    "encrypted_binary_text = bytes([int(encrypted_binary_string[i:i+8], 2) for i in range(0, len(encrypted_binary_string), 8)])\n",
    "\n",
    "# create the AES cipher object\n",
    "cipher = AES.new(key, AES.MODE_ECB)\n",
    "\n",
    "# decrypt the encrypted binary text\n",
    "decrypted_padded_binary_text = cipher.decrypt(encrypted_binary_text)\n",
    "\n",
    "# remove the padding from the decrypted binary text\n",
    "decrypted_binary_text = unpad(decrypted_padded_binary_text, block_size)\n",
    "\n",
    "# convert the decrypted binary text to ASCII text\n",
    "decrypted_text = \"\".join([chr(int(decrypted_binary_text[i:i+8], 2)) for i in range(0, len(decrypted_binary_text), 8)])\n",
    "\n",
    "# the decrypted ASCII text\n",
    "print(decrypted_text)"
   ]
  },
  {
   "cell_type": "code",
   "execution_count": null,
   "id": "1adca567",
   "metadata": {},
   "outputs": [],
   "source": [
    "import hashlib\n",
    "\n",
    "message = \"Y.Nanthachai!\"\n",
    "\n",
    "# Convert text message to byte string\n",
    "text_bytes = message.encode()\n",
    "\n",
    "# Create hash object\n",
    "hash_object = hashlib.sha256()\n",
    "\n",
    "# Update hash object with text_bytes\n",
    "hash_object.update(text_bytes)\n",
    "\n",
    "# Get hexadecimal representation of the hash\n",
    "hash_hex = hash_object.hexdigest()\n",
    "\n",
    "# Convert hexadecimal representation to binary\n",
    "hash_bin = bin(int(hash_hex, 16))[2:].zfill(256)\n",
    "\n",
    "print(hash_bin)"
   ]
  },
  {
   "cell_type": "code",
   "execution_count": null,
   "id": "38520b82",
   "metadata": {},
   "outputs": [],
   "source": [
    "import hashlib\n",
    "\n",
    "message = \"0010011001001000111110110111011101001010101010100001010101110100100100111100001000001010101000010111011101101010001010011011010100001011011011101011011000000001010110000010100100111101001111010110111110111100111010011011000111000001011111111110011100011011\"\n",
    "\n",
    "# Convert binary message to byte string\n",
    "binary_bytes = bytes(int(message[i:i+8], 2) for i in range(0, len(message), 8))\n",
    "\n",
    "# Create hash object\n",
    "hash_object = hashlib.sha256()\n",
    "\n",
    "# Update hash object with binary_bytes\n",
    "hash_object.update(binary_bytes)\n",
    "\n",
    "# Get hexadecimal representation of the hash\n",
    "hash_hex = hash_object.hexdigest()\n",
    "\n",
    "print(hash_hex)"
   ]
  },
  {
   "attachments": {},
   "cell_type": "markdown",
   "id": "63988d04",
   "metadata": {},
   "source": [
    "Mitigating Noise on Real Quantum Computers"
   ]
  },
  {
   "cell_type": "code",
   "execution_count": null,
   "id": "6d5711ae",
   "metadata": {},
   "outputs": [],
   "source": [
    "from qiskit import *"
   ]
  },
  {
   "cell_type": "code",
   "execution_count": null,
   "id": "cad435a4",
   "metadata": {},
   "outputs": [],
   "source": [
    "nqubits = 3\n",
    "circuit = QuantumCircuit(nqubits, nqubits)\n",
    "circuit.h(0)\n",
    "circuit.cx(0,1)\n",
    "circuit.cx(1,2)\n",
    "circuit.measure([0,1,2], [0,1,2])"
   ]
  },
  {
   "cell_type": "code",
   "execution_count": null,
   "id": "43cbbba0",
   "metadata": {},
   "outputs": [],
   "source": [
    "%matplotlib inline\n",
    "circuit.draw()"
   ]
  },
  {
   "cell_type": "code",
   "execution_count": null,
   "id": "15892f38",
   "metadata": {},
   "outputs": [],
   "source": [
    "simulator = Aer.get_backend('qasm_simulator')\n",
    "sim_result = execute(circuit, backend= simulator, shots=1024).result()"
   ]
  },
  {
   "cell_type": "code",
   "execution_count": null,
   "id": "82d9517b",
   "metadata": {},
   "outputs": [],
   "source": [
    "from qiskit.visualization import  plot_histogram"
   ]
  },
  {
   "cell_type": "code",
   "execution_count": null,
   "id": "b692fd28",
   "metadata": {},
   "outputs": [],
   "source": [
    "plot_histogram(sim_result.get_counts(circuit))"
   ]
  },
  {
   "cell_type": "code",
   "execution_count": null,
   "id": "0820174f",
   "metadata": {},
   "outputs": [],
   "source": [
    "IBMQ.load_account()\n",
    "provider = IBMQ.get_provider(hub='ibm-q')\n",
    "device = provider.get_backend('simulator_stabilizer') #5000 Qubits"
   ]
  },
  {
   "cell_type": "code",
   "execution_count": null,
   "id": "6b577dff",
   "metadata": {},
   "outputs": [],
   "source": [
    "job = execute(circuit, backend= device, shots= 1024)\n",
    "print(job.job_id())\n",
    "from qiskit.tools.monitor import job_monitor\n",
    "job_monitor(job)"
   ]
  },
  {
   "cell_type": "code",
   "execution_count": null,
   "id": "6e7695ea",
   "metadata": {},
   "outputs": [],
   "source": [
    "device_result = job.result()\n",
    "plot_histogram(device_result.get_counts(circuit))"
   ]
  },
  {
   "cell_type": "code",
   "execution_count": null,
   "id": "652df0ee",
   "metadata": {},
   "outputs": [],
   "source": [
    "pip install qiskit.ignis"
   ]
  },
  {
   "cell_type": "code",
   "execution_count": null,
   "id": "7d6ff8b9",
   "metadata": {},
   "outputs": [],
   "source": [
    "from qiskit.ignis.mitigation.measurement import (complete_meas_cal, CompleteMeasFitter)"
   ]
  },
  {
   "cell_type": "code",
   "execution_count": null,
   "id": "49337636",
   "metadata": {},
   "outputs": [],
   "source": [
    "cal_circuits, state_labels = complete_meas_cal(qr = circuit.qregs[0], circlabel = 'measerrormitigetioncal')"
   ]
  },
  {
   "cell_type": "code",
   "execution_count": null,
   "id": "1d2099f8",
   "metadata": {},
   "outputs": [],
   "source": [
    "cal_circuits[2].draw()"
   ]
  },
  {
   "cell_type": "code",
   "execution_count": null,
   "id": "03420484",
   "metadata": {},
   "outputs": [],
   "source": [
    "len(cal_circuits)"
   ]
  },
  {
   "cell_type": "code",
   "execution_count": null,
   "id": "e0203721",
   "metadata": {},
   "outputs": [],
   "source": [
    "cal_job = execute(\n",
    "    cal_circuits,\n",
    "    backend = device,\n",
    "    shots = 1024,\n",
    "    optimization_level = 0\n",
    ")\n",
    "print(cal_job.job_id())\n",
    "job_monitor(cal_job)\n",
    "cal_results = cal_job.result()"
   ]
  },
  {
   "cell_type": "code",
   "execution_count": null,
   "id": "05b4cf5e",
   "metadata": {},
   "outputs": [],
   "source": [
    "plot_histogram(\n",
    "    cal_results.get_counts(cal_circuits[3])\n",
    ")"
   ]
  },
  {
   "cell_type": "code",
   "execution_count": null,
   "id": "8500db67",
   "metadata": {},
   "outputs": [],
   "source": [
    "meas_fitter = CompleteMeasFitter(cal_results, state_labels)"
   ]
  },
  {
   "cell_type": "code",
   "execution_count": null,
   "id": "74ab494c",
   "metadata": {},
   "outputs": [],
   "source": [
    "meas_fitter.plot_calibration()"
   ]
  },
  {
   "cell_type": "code",
   "execution_count": null,
   "id": "6378d667",
   "metadata": {},
   "outputs": [],
   "source": [
    "meas_fitter = meas_fitter.filter"
   ]
  },
  {
   "cell_type": "code",
   "execution_count": null,
   "id": "4059bfcf",
   "metadata": {},
   "outputs": [],
   "source": [
    "#mitigated_result = meas_filter.apply(device_result)"
   ]
  },
  {
   "cell_type": "code",
   "execution_count": null,
   "id": "e78d36d6",
   "metadata": {},
   "outputs": [],
   "source": [
    "#device_counts = device_result.get_counts(circuit)\n",
    "#mitigated_counts = mitigated_result.get_counts(circuit)\n",
    "#plot_histogram([device_counts, mitigated_counts], legend=['device, noisy', 'device, mitigated'])"
   ]
  },
  {
   "cell_type": "code",
   "execution_count": null,
   "id": "0ad2c23c",
   "metadata": {},
   "outputs": [],
   "source": [
    "circuit2 = QuantumCircuit(3,3)\n",
    "circuit2.x(1)\n",
    "circuit2.h(0)\n",
    "circuit2.cx(0,1)\n",
    "circuit2.cx(1,2)\n",
    "circuit2.measure([0,1,2], [0,1,2])\n",
    "circuit2.draw()"
   ]
  },
  {
   "cell_type": "code",
   "execution_count": null,
   "id": "696338e1",
   "metadata": {},
   "outputs": [],
   "source": [
    "plot_histogram(\n",
    "    execute(circuit2, backend=simulator, shots=1024).result().get_counts(circuit2)\n",
    ")"
   ]
  },
  {
   "cell_type": "code",
   "execution_count": null,
   "id": "fcdf9901",
   "metadata": {},
   "outputs": [],
   "source": [
    "device_counts_2 = execute(circuit2, backend=device, shots=1024).result().get_counts(circuit2)"
   ]
  },
  {
   "cell_type": "code",
   "execution_count": null,
   "id": "96f80c84",
   "metadata": {},
   "outputs": [],
   "source": [
    "plot_histogram(device_counts_2)"
   ]
  },
  {
   "cell_type": "code",
   "execution_count": null,
   "id": "87538eb0",
   "metadata": {},
   "outputs": [],
   "source": [
    "#device_mitigated_counts_2 = meas_filter.apply(device_counts_2)"
   ]
  },
  {
   "cell_type": "code",
   "execution_count": null,
   "id": "0c93c1ac",
   "metadata": {},
   "outputs": [],
   "source": [
    "#plot_histogram(device_mitigated_counts_2)"
   ]
  },
  {
   "attachments": {},
   "cell_type": "markdown",
   "id": "bdeb0f1b",
   "metadata": {},
   "source": [
    "Quantum Games"
   ]
  },
  {
   "cell_type": "code",
   "execution_count": null,
   "id": "37d81909",
   "metadata": {},
   "outputs": [],
   "source": [
    "#git clone https://github.com/JavaFXpert/QiskitBlocks.git"
   ]
  },
  {
   "attachments": {},
   "cell_type": "markdown",
   "id": "0337cfb9",
   "metadata": {},
   "source": [
    "Quantum Algorithms"
   ]
  },
  {
   "cell_type": "code",
   "execution_count": null,
   "id": "5a3ea3ed",
   "metadata": {},
   "outputs": [],
   "source": [
    "import qiskit.quantum_info as qi\n",
    "from qiskit.circuit.library import FourierChecking\n",
    "from qiskit.visualization import plot_histogram"
   ]
  },
  {
   "cell_type": "code",
   "execution_count": null,
   "id": "a6fdb652",
   "metadata": {},
   "outputs": [],
   "source": [
    "f=[1,-1,-1,-1]\n",
    "g=[1,1,-1,-1]"
   ]
  },
  {
   "cell_type": "code",
   "execution_count": null,
   "id": "7c52d98f",
   "metadata": {},
   "outputs": [],
   "source": [
    "circ = FourierChecking(f=f,g=g)\n",
    "circ.draw()"
   ]
  },
  {
   "cell_type": "code",
   "execution_count": null,
   "id": "2230801b",
   "metadata": {},
   "outputs": [],
   "source": [
    "zero = qi.Statevector.from_label('00')\n",
    "sv = zero.evolve(circ)\n",
    "probs = sv.probabilities_dict()\n",
    "plot_histogram(probs)"
   ]
  },
  {
   "attachments": {},
   "cell_type": "markdown",
   "id": "84414850",
   "metadata": {},
   "source": [
    "Grovers Algorithm"
   ]
  },
  {
   "cell_type": "code",
   "execution_count": null,
   "id": "d51ddc0f",
   "metadata": {},
   "outputs": [],
   "source": [
    "my_list=[1,3,5,2,4,9,5,8,0,7,6]"
   ]
  },
  {
   "cell_type": "code",
   "execution_count": null,
   "id": "1b1f6d9b",
   "metadata": {},
   "outputs": [],
   "source": [
    "def the_oracle(my_list):\n",
    "    winner=7\n",
    "    if my_list is winner:\n",
    "        response = True\n",
    "    else:\n",
    "        response = False\n",
    "    return response"
   ]
  },
  {
   "cell_type": "code",
   "execution_count": null,
   "id": "fe9ab12a",
   "metadata": {},
   "outputs": [],
   "source": [
    "for index, trial_number in enumerate(my_list):\n",
    "    if the_oracle(trial_number) is True:\n",
    "        print('Winnder found at index %i'%index)\n",
    "        print('%i calls to the Oracle used'%(index+1))\n",
    "        break"
   ]
  },
  {
   "cell_type": "code",
   "execution_count": null,
   "id": "d27ce327",
   "metadata": {},
   "outputs": [],
   "source": [
    "from qiskit import *\n",
    "import matplotlib.pyplot as plt\n",
    "import numpy as np"
   ]
  },
  {
   "cell_type": "code",
   "execution_count": null,
   "id": "f8628220",
   "metadata": {},
   "outputs": [],
   "source": [
    "oracle = QuantumCircuit(2,name='oracle')\n",
    "oracle.cz(0,1)\n",
    "oracle.to_gate()\n",
    "oracle.draw()"
   ]
  },
  {
   "cell_type": "code",
   "execution_count": null,
   "id": "e0a74c09",
   "metadata": {},
   "outputs": [],
   "source": [
    "backend = Aer.get_backend('statevector_simulator')\n",
    "grover_circ = QuantumCircuit(2,2)\n",
    "grover_circ.h([0,1])\n",
    "grover_circ.append(oracle,[0,1])\n",
    "grover_circ.draw()"
   ]
  },
  {
   "cell_type": "code",
   "execution_count": null,
   "id": "6f324d05",
   "metadata": {},
   "outputs": [],
   "source": [
    "job = execute(grover_circ,backend)\n",
    "result = job.result()"
   ]
  },
  {
   "cell_type": "code",
   "execution_count": null,
   "id": "9c831208",
   "metadata": {},
   "outputs": [],
   "source": [
    "sv = result.get_statevector()\n",
    "np.around(sv,2)"
   ]
  },
  {
   "cell_type": "code",
   "execution_count": null,
   "id": "83fa4482",
   "metadata": {},
   "outputs": [],
   "source": [
    "reflection = QuantumCircuit(2,name='reflection')\n",
    "reflection.h([0,1])\n",
    "reflection.z([0,1])\n",
    "reflection.cx(0,1)\n",
    "reflection.h([0,1])\n",
    "reflection.to_gate()"
   ]
  },
  {
   "cell_type": "code",
   "execution_count": null,
   "metadata": {},
   "outputs": [],
   "source": [
    "reflection.draw()"
   ]
  },
  {
   "cell_type": "code",
   "execution_count": null,
   "id": "43677425",
   "metadata": {},
   "outputs": [],
   "source": [
    "backend = Aer.get_backend('qasm_simulator')\n",
    "grover_circ = QuantumCircuit(2,2)\n",
    "grover_circ.h([0,1])\n",
    "grover_circ.append(oracle,[0,1])\n",
    "grover_circ.append(reflection,[0,1])\n",
    "grover_circ.measure([0,1],[0,1])"
   ]
  },
  {
   "cell_type": "code",
   "execution_count": null,
   "id": "acfd5765",
   "metadata": {},
   "outputs": [],
   "source": [
    "grover_circ.draw()"
   ]
  },
  {
   "cell_type": "code",
   "execution_count": null,
   "id": "188a830a",
   "metadata": {},
   "outputs": [],
   "source": [
    "job = execute(grover_circ,backend,shots=1)\n",
    "result = job.result()\n",
    "result.get_counts()"
   ]
  },
  {
   "attachments": {},
   "cell_type": "markdown",
   "id": "7cec801b",
   "metadata": {},
   "source": [
    "The Variational Quantum Eigensolver"
   ]
  },
  {
   "cell_type": "code",
   "execution_count": null,
   "id": "0c61f857",
   "metadata": {},
   "outputs": [],
   "source": [
    "from qiskit import QuantumCircuit, ClassicalRegister, QuantumRegister, transpile, assemble, Aer, execute"
   ]
  },
  {
   "cell_type": "code",
   "execution_count": null,
   "id": "03968a5b",
   "metadata": {},
   "outputs": [],
   "source": [
    "import numpy as np\n",
    "import pylab\n",
    "import copy\n",
    "from qiskit import BasicAer\n",
    "from qiskit.aqua import aqua_globals, QuantumInstance\n",
    "from qiskit.aqua.algorithms import NumPyMinimunEigensolver, VQE\n",
    "from qiskit.chemistry.components.initional_forms import UCCSD\n",
    "from qiskit.chemistry.drivers import PySCFDriver\n",
    "from qiskit.chemistry.core import Hamiltonian, QuantumMappingType"
   ]
  },
  {
   "cell_type": "code",
   "execution_count": null,
   "id": "69e9a460",
   "metadata": {},
   "outputs": [],
   "source": [
    "molecule = 'H .0 .0 -{0}; Li .0 .0 {0}'\n",
    "distences = np.arange(0.5,4.25.0.25)\n",
    "vqe_energies = []\n",
    "hf_energies = []\n",
    "exact_energies = []"
   ]
  }
 ],
 "metadata": {
  "kernelspec": {
   "display_name": "Python 3.10.7 64-bit",
   "language": "python",
   "name": "python3"
  },
  "language_info": {
   "codemirror_mode": {
    "name": "ipython",
    "version": 3
   },
   "file_extension": ".py",
   "mimetype": "text/x-python",
   "name": "python",
   "nbconvert_exporter": "python",
   "pygments_lexer": "ipython3",
   "version": "3.11.5"
  },
  "vscode": {
   "interpreter": {
    "hash": "767d51c1340bd893661ea55ea3124f6de3c7a262a8b4abca0554b478b1e2ff90"
   }
  }
 },
 "nbformat": 4,
 "nbformat_minor": 5
}
