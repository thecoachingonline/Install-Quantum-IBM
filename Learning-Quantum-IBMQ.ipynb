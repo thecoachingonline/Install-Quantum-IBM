{
 "cells": [
  {
   "cell_type": "code",
   "execution_count": 1,
   "id": "6b198837",
   "metadata": {},
   "outputs": [
    {
     "name": "stdout",
     "output_type": "stream",
     "text": [
      "Requirement already satisfied: qiskit in /usr/local/python/3.10.4/lib/python3.10/site-packages (0.42.1)\n",
      "Requirement already satisfied: qiskit-ibmq-provider==0.20.2 in /usr/local/python/3.10.4/lib/python3.10/site-packages (from qiskit) (0.20.2)\n",
      "Requirement already satisfied: qiskit-aer==0.12.0 in /usr/local/python/3.10.4/lib/python3.10/site-packages (from qiskit) (0.12.0)\n",
      "Requirement already satisfied: qiskit-terra==0.23.3 in /usr/local/python/3.10.4/lib/python3.10/site-packages (from qiskit) (0.23.3)\n",
      "Requirement already satisfied: scipy>=1.0 in /home/codespace/.local/lib/python3.10/site-packages (from qiskit-aer==0.12.0->qiskit) (1.10.1)\n",
      "Requirement already satisfied: numpy>=1.16.3 in /usr/local/python/3.10.4/lib/python3.10/site-packages (from qiskit-aer==0.12.0->qiskit) (1.23.5)\n",
      "Requirement already satisfied: urllib3>=1.21.1 in /home/codespace/.local/lib/python3.10/site-packages (from qiskit-ibmq-provider==0.20.2->qiskit) (1.26.15)\n",
      "Requirement already satisfied: requests>=2.19 in /home/codespace/.local/lib/python3.10/site-packages (from qiskit-ibmq-provider==0.20.2->qiskit) (2.28.2)\n",
      "Requirement already satisfied: python-dateutil>=2.8.0 in /home/codespace/.local/lib/python3.10/site-packages (from qiskit-ibmq-provider==0.20.2->qiskit) (2.8.2)\n",
      "Requirement already satisfied: requests-ntlm<=1.1.0 in /usr/local/python/3.10.4/lib/python3.10/site-packages (from qiskit-ibmq-provider==0.20.2->qiskit) (1.1.0)\n",
      "Requirement already satisfied: websocket-client>=1.5.1 in /home/codespace/.local/lib/python3.10/site-packages (from qiskit-ibmq-provider==0.20.2->qiskit) (1.5.1)\n",
      "Requirement already satisfied: websockets>=10.0 in /usr/local/python/3.10.4/lib/python3.10/site-packages (from qiskit-ibmq-provider==0.20.2->qiskit) (11.0.1)\n",
      "Requirement already satisfied: symengine>=0.9 in /usr/local/python/3.10.4/lib/python3.10/site-packages (from qiskit-terra==0.23.3->qiskit) (0.10.0)\n",
      "Requirement already satisfied: sympy>=1.3 in /home/codespace/.local/lib/python3.10/site-packages (from qiskit-terra==0.23.3->qiskit) (1.11.1)\n",
      "Requirement already satisfied: psutil>=5 in /home/codespace/.local/lib/python3.10/site-packages (from qiskit-terra==0.23.3->qiskit) (5.9.4)\n",
      "Requirement already satisfied: dill>=0.3 in /usr/local/python/3.10.4/lib/python3.10/site-packages (from qiskit-terra==0.23.3->qiskit) (0.3.6)\n",
      "Requirement already satisfied: stevedore>=3.0.0 in /usr/local/python/3.10.4/lib/python3.10/site-packages (from qiskit-terra==0.23.3->qiskit) (5.0.0)\n",
      "Requirement already satisfied: rustworkx>=0.12.0 in /usr/local/python/3.10.4/lib/python3.10/site-packages (from qiskit-terra==0.23.3->qiskit) (0.12.1)\n",
      "Requirement already satisfied: ply>=3.10 in /usr/local/python/3.10.4/lib/python3.10/site-packages (from qiskit-terra==0.23.3->qiskit) (3.11)\n",
      "Requirement already satisfied: six>=1.5 in /home/codespace/.local/lib/python3.10/site-packages (from python-dateutil>=2.8.0->qiskit-ibmq-provider==0.20.2->qiskit) (1.16.0)\n",
      "Requirement already satisfied: charset-normalizer<4,>=2 in /home/codespace/.local/lib/python3.10/site-packages (from requests>=2.19->qiskit-ibmq-provider==0.20.2->qiskit) (3.1.0)\n",
      "Requirement already satisfied: certifi>=2017.4.17 in /home/codespace/.local/lib/python3.10/site-packages (from requests>=2.19->qiskit-ibmq-provider==0.20.2->qiskit) (2022.12.7)\n",
      "Requirement already satisfied: idna<4,>=2.5 in /home/codespace/.local/lib/python3.10/site-packages (from requests>=2.19->qiskit-ibmq-provider==0.20.2->qiskit) (3.4)\n",
      "Requirement already satisfied: ntlm-auth>=1.0.2 in /usr/local/python/3.10.4/lib/python3.10/site-packages (from requests-ntlm<=1.1.0->qiskit-ibmq-provider==0.20.2->qiskit) (1.5.0)\n",
      "Requirement already satisfied: cryptography>=1.3 in /usr/local/python/3.10.4/lib/python3.10/site-packages (from requests-ntlm<=1.1.0->qiskit-ibmq-provider==0.20.2->qiskit) (40.0.2)\n",
      "Requirement already satisfied: pbr!=2.1.0,>=2.0.0 in /usr/local/python/3.10.4/lib/python3.10/site-packages (from stevedore>=3.0.0->qiskit-terra==0.23.3->qiskit) (5.11.1)\n",
      "Requirement already satisfied: mpmath>=0.19 in /home/codespace/.local/lib/python3.10/site-packages (from sympy>=1.3->qiskit-terra==0.23.3->qiskit) (1.3.0)\n",
      "Requirement already satisfied: cffi>=1.12 in /home/codespace/.local/lib/python3.10/site-packages (from cryptography>=1.3->requests-ntlm<=1.1.0->qiskit-ibmq-provider==0.20.2->qiskit) (1.15.1)\n",
      "Requirement already satisfied: pycparser in /home/codespace/.local/lib/python3.10/site-packages (from cffi>=1.12->cryptography>=1.3->requests-ntlm<=1.1.0->qiskit-ibmq-provider==0.20.2->qiskit) (2.21)\n",
      "\n",
      "\u001b[1m[\u001b[0m\u001b[34;49mnotice\u001b[0m\u001b[1;39;49m]\u001b[0m\u001b[39;49m A new release of pip is available: \u001b[0m\u001b[31;49m23.0.1\u001b[0m\u001b[39;49m -> \u001b[0m\u001b[32;49m23.1\u001b[0m\n",
      "\u001b[1m[\u001b[0m\u001b[34;49mnotice\u001b[0m\u001b[1;39;49m]\u001b[0m\u001b[39;49m To update, run: \u001b[0m\u001b[32;49mpip install --upgrade pip\u001b[0m\n",
      "Note: you may need to restart the kernel to use updated packages.\n"
     ]
    }
   ],
   "source": [
    "pip install qiskit"
   ]
  },
  {
   "cell_type": "code",
   "execution_count": 2,
   "id": "495a9f25",
   "metadata": {},
   "outputs": [
    {
     "name": "stdout",
     "output_type": "stream",
     "text": [
      "Requirement already satisfied: matplotlib in /home/codespace/.local/lib/python3.10/site-packages (3.7.1)\n",
      "Requirement already satisfied: fonttools>=4.22.0 in /home/codespace/.local/lib/python3.10/site-packages (from matplotlib) (4.39.3)\n",
      "Requirement already satisfied: contourpy>=1.0.1 in /home/codespace/.local/lib/python3.10/site-packages (from matplotlib) (1.0.7)\n",
      "Requirement already satisfied: cycler>=0.10 in /home/codespace/.local/lib/python3.10/site-packages (from matplotlib) (0.11.0)\n",
      "Requirement already satisfied: python-dateutil>=2.7 in /home/codespace/.local/lib/python3.10/site-packages (from matplotlib) (2.8.2)\n",
      "Requirement already satisfied: kiwisolver>=1.0.1 in /home/codespace/.local/lib/python3.10/site-packages (from matplotlib) (1.4.4)\n",
      "Requirement already satisfied: packaging>=20.0 in /home/codespace/.local/lib/python3.10/site-packages (from matplotlib) (23.0)\n",
      "Requirement already satisfied: pillow>=6.2.0 in /home/codespace/.local/lib/python3.10/site-packages (from matplotlib) (9.5.0)\n",
      "Requirement already satisfied: numpy>=1.20 in /usr/local/python/3.10.4/lib/python3.10/site-packages (from matplotlib) (1.23.5)\n",
      "Requirement already satisfied: pyparsing>=2.3.1 in /home/codespace/.local/lib/python3.10/site-packages (from matplotlib) (3.0.9)\n",
      "Requirement already satisfied: six>=1.5 in /home/codespace/.local/lib/python3.10/site-packages (from python-dateutil>=2.7->matplotlib) (1.16.0)\n",
      "\n",
      "\u001b[1m[\u001b[0m\u001b[34;49mnotice\u001b[0m\u001b[1;39;49m]\u001b[0m\u001b[39;49m A new release of pip is available: \u001b[0m\u001b[31;49m23.0.1\u001b[0m\u001b[39;49m -> \u001b[0m\u001b[32;49m23.1\u001b[0m\n",
      "\u001b[1m[\u001b[0m\u001b[34;49mnotice\u001b[0m\u001b[1;39;49m]\u001b[0m\u001b[39;49m To update, run: \u001b[0m\u001b[32;49mpip install --upgrade pip\u001b[0m\n",
      "Note: you may need to restart the kernel to use updated packages.\n"
     ]
    }
   ],
   "source": [
    "pip install matplotlib"
   ]
  },
  {
   "cell_type": "code",
   "execution_count": 3,
   "id": "faa48c7f",
   "metadata": {},
   "outputs": [],
   "source": [
    "import qiskit"
   ]
  },
  {
   "cell_type": "code",
   "execution_count": 4,
   "id": "c068529c",
   "metadata": {},
   "outputs": [
    {
     "data": {
      "text/plain": [
       "{'qiskit-terra': '0.23.3', 'qiskit-aer': '0.12.0', 'qiskit-ignis': '0.7.1', 'qiskit-ibmq-provider': '0.20.2', 'qiskit': '0.42.1', 'qiskit-nature': None, 'qiskit-finance': None, 'qiskit-optimization': None, 'qiskit-machine-learning': None}"
      ]
     },
     "execution_count": 4,
     "metadata": {},
     "output_type": "execute_result"
    }
   ],
   "source": [
    "qiskit.__qiskit_version__"
   ]
  },
  {
   "cell_type": "code",
   "execution_count": 5,
   "id": "614cda2c",
   "metadata": {},
   "outputs": [],
   "source": [
    "from qiskit import IBMQ"
   ]
  },
  {
   "cell_type": "code",
   "execution_count": 6,
   "id": "4edcbcd1",
   "metadata": {},
   "outputs": [
    {
     "name": "stderr",
     "output_type": "stream",
     "text": [
      "/tmp/ipykernel_4810/3933123782.py:1: DeprecationWarning: The qiskit.IBMQ entrypoint and the qiskit-ibmq-provider package (accessible from 'qiskit.providers.ibmq`) are deprecated and will be removed in a future release. Instead you should use the qiskit-ibm-provider package which is accessible from 'qiskit_ibm_provider'. You can install it with 'pip install qiskit_ibm_provider'. Just replace 'qiskit.IBMQ' with 'qiskit_ibm_provider.IBMProvider'\n",
      "  IBMQ.save_account('691b4770171e172645199ac45d87f446b5528af263e509c8a4beada26aa31afd58a3fca0bc48fb3406ca7a6a395e5cda2f9741671db2b82757b3f8ebeb18cc22')\n",
      "configrc.store_credentials:WARNING:2023-04-19 09:13:12,797: Credentials already present. Set overwrite=True to overwrite.\n"
     ]
    }
   ],
   "source": [
    "IBMQ.save_account('')"
   ]
  },
  {
   "cell_type": "code",
   "execution_count": 7,
   "id": "82b24434",
   "metadata": {},
   "outputs": [
    {
     "data": {
      "text/plain": [
       "<AccountProvider for IBMQ(hub='ibm-q', group='open', project='main')>"
      ]
     },
     "execution_count": 7,
     "metadata": {},
     "output_type": "execute_result"
    }
   ],
   "source": [
    "IBMQ.load_account()"
   ]
  },
  {
   "cell_type": "markdown",
   "id": "d621822f",
   "metadata": {},
   "source": []
  },
  {
   "cell_type": "markdown",
   "id": "a2ee273b",
   "metadata": {},
   "source": [
    "สวัสดีชาวโลก | Hello World"
   ]
  },
  {
   "cell_type": "code",
   "execution_count": 8,
   "id": "55f914c0",
   "metadata": {},
   "outputs": [],
   "source": [
    "from qiskit import *"
   ]
  },
  {
   "cell_type": "code",
   "execution_count": 9,
   "id": "4460d228",
   "metadata": {},
   "outputs": [],
   "source": [
    "qr = QuantumRegister(2)"
   ]
  },
  {
   "cell_type": "code",
   "execution_count": 10,
   "id": "3396d7b8",
   "metadata": {},
   "outputs": [],
   "source": [
    "cr = ClassicalRegister(2)"
   ]
  },
  {
   "cell_type": "code",
   "execution_count": 11,
   "id": "683d1c46",
   "metadata": {},
   "outputs": [],
   "source": [
    "circuit = QuantumCircuit(qr, cr)"
   ]
  },
  {
   "cell_type": "code",
   "execution_count": 12,
   "id": "be022126",
   "metadata": {},
   "outputs": [],
   "source": [
    "%matplotlib inline"
   ]
  },
  {
   "cell_type": "code",
   "execution_count": 13,
   "id": "612fc99b",
   "metadata": {},
   "outputs": [
    {
     "data": {
      "text/html": [
       "<pre style=\"word-wrap: normal;white-space: pre;background: #fff0;line-height: 1.1;font-family: &quot;Courier New&quot;,Courier,monospace\">      \n",
       "q0_0: \n",
       "      \n",
       "q0_1: \n",
       "      \n",
       "c0: 2/\n",
       "      </pre>"
      ],
      "text/plain": [
       "      \n",
       "q0_0: \n",
       "      \n",
       "q0_1: \n",
       "      \n",
       "c0: 2/\n",
       "      "
      ]
     },
     "execution_count": 13,
     "metadata": {},
     "output_type": "execute_result"
    }
   ],
   "source": [
    "circuit.draw()"
   ]
  },
  {
   "cell_type": "code",
   "execution_count": 14,
   "id": "44b762b4",
   "metadata": {},
   "outputs": [
    {
     "data": {
      "text/plain": [
       "<qiskit.circuit.instructionset.InstructionSet at 0x7fe6b8cbcc10>"
      ]
     },
     "execution_count": 14,
     "metadata": {},
     "output_type": "execute_result"
    }
   ],
   "source": [
    "circuit.h(qr[0])"
   ]
  },
  {
   "cell_type": "code",
   "execution_count": 15,
   "id": "320a14b2",
   "metadata": {},
   "outputs": [
    {
     "data": {
      "text/html": [
       "<pre style=\"word-wrap: normal;white-space: pre;background: #fff0;line-height: 1.1;font-family: &quot;Courier New&quot;,Courier,monospace\">      ┌───┐\n",
       "q0_0: ┤ H ├\n",
       "      └───┘\n",
       "q0_1: ─────\n",
       "           \n",
       "c0: 2/═════\n",
       "           </pre>"
      ],
      "text/plain": [
       "      ┌───┐\n",
       "q0_0: ┤ H ├\n",
       "      └───┘\n",
       "q0_1: ─────\n",
       "           \n",
       "c0: 2/═════\n",
       "           "
      ]
     },
     "execution_count": 15,
     "metadata": {},
     "output_type": "execute_result"
    }
   ],
   "source": [
    "circuit.draw()"
   ]
  },
  {
   "cell_type": "code",
   "execution_count": 16,
   "id": "67d99725",
   "metadata": {},
   "outputs": [
    {
     "data": {
      "text/plain": [
       "<qiskit.circuit.instructionset.InstructionSet at 0x7fe6b8cbcbb0>"
      ]
     },
     "execution_count": 16,
     "metadata": {},
     "output_type": "execute_result"
    }
   ],
   "source": [
    "circuit.cx(qr[0], qr[1])"
   ]
  },
  {
   "cell_type": "code",
   "execution_count": 17,
   "id": "4ec7bff8",
   "metadata": {},
   "outputs": [
    {
     "data": {
      "text/html": [
       "<pre style=\"word-wrap: normal;white-space: pre;background: #fff0;line-height: 1.1;font-family: &quot;Courier New&quot;,Courier,monospace\">      ┌───┐     \n",
       "q0_0: ┤ H ├──■──\n",
       "      └───┘┌─┴─┐\n",
       "q0_1: ─────┤ X ├\n",
       "           └───┘\n",
       "c0: 2/══════════\n",
       "                </pre>"
      ],
      "text/plain": [
       "      ┌───┐     \n",
       "q0_0: ┤ H ├──■──\n",
       "      └───┘┌─┴─┐\n",
       "q0_1: ─────┤ X ├\n",
       "           └───┘\n",
       "c0: 2/══════════\n",
       "                "
      ]
     },
     "execution_count": 17,
     "metadata": {},
     "output_type": "execute_result"
    }
   ],
   "source": [
    "circuit.draw()"
   ]
  },
  {
   "cell_type": "code",
   "execution_count": 18,
   "id": "b9af1b78",
   "metadata": {},
   "outputs": [
    {
     "data": {
      "text/plain": [
       "<qiskit.circuit.instructionset.InstructionSet at 0x7fe6b8cbcd30>"
      ]
     },
     "execution_count": 18,
     "metadata": {},
     "output_type": "execute_result"
    }
   ],
   "source": [
    "circuit.measure(qr, cr)"
   ]
  },
  {
   "cell_type": "code",
   "execution_count": 19,
   "id": "dced64e0",
   "metadata": {},
   "outputs": [
    {
     "data": {
      "text/html": [
       "<pre style=\"word-wrap: normal;white-space: pre;background: #fff0;line-height: 1.1;font-family: &quot;Courier New&quot;,Courier,monospace\">      ┌───┐     ┌─┐   \n",
       "q0_0: ┤ H ├──■──┤M├───\n",
       "      └───┘┌─┴─┐└╥┘┌─┐\n",
       "q0_1: ─────┤ X ├─╫─┤M├\n",
       "           └───┘ ║ └╥┘\n",
       "c0: 2/═══════════╩══╩═\n",
       "                 0  1 </pre>"
      ],
      "text/plain": [
       "      ┌───┐     ┌─┐   \n",
       "q0_0: ┤ H ├──■──┤M├───\n",
       "      └───┘┌─┴─┐└╥┘┌─┐\n",
       "q0_1: ─────┤ X ├─╫─┤M├\n",
       "           └───┘ ║ └╥┘\n",
       "c0: 2/═══════════╩══╩═\n",
       "                 0  1 "
      ]
     },
     "execution_count": 19,
     "metadata": {},
     "output_type": "execute_result"
    }
   ],
   "source": [
    "circuit.draw()"
   ]
  },
  {
   "cell_type": "code",
   "execution_count": 20,
   "id": "78c73acc",
   "metadata": {},
   "outputs": [],
   "source": [
    "simulator = Aer.get_backend('qasm_simulator')"
   ]
  },
  {
   "cell_type": "code",
   "execution_count": 21,
   "id": "cccda2d4",
   "metadata": {},
   "outputs": [],
   "source": [
    "result = execute(circuit, backend= simulator).result()"
   ]
  },
  {
   "cell_type": "code",
   "execution_count": 22,
   "id": "31d986c9",
   "metadata": {},
   "outputs": [],
   "source": [
    "from qiskit.tools.visualization import plot_histogram"
   ]
  },
  {
   "cell_type": "code",
   "execution_count": 23,
   "id": "5600ca6a",
   "metadata": {},
   "outputs": [
    {
     "data": {
      "image/png": "[encoded data removed]",
      "text/plain": [
       "<Figure size 700x500 with 1 Axes>"
      ]
     },
     "execution_count": 23,
     "metadata": {},
     "output_type": "execute_result"
    }
   ],
   "source": [
    "plot_histogram(result.get_counts(circuit))"
   ]
  },
  {
   "cell_type": "code",
   "execution_count": 24,
   "id": "412d14ca",
   "metadata": {},
   "outputs": [
    {
     "name": "stderr",
     "output_type": "stream",
     "text": [
      "ibmqfactory.load_account:WARNING:2023-04-19 09:13:22,435: Credentials are already in use. The existing account in the session will be replaced.\n"
     ]
    },
    {
     "data": {
      "text/plain": [
       "<AccountProvider for IBMQ(hub='ibm-q', group='open', project='main')>"
      ]
     },
     "execution_count": 24,
     "metadata": {},
     "output_type": "execute_result"
    }
   ],
   "source": [
    "IBMQ.load_account()"
   ]
  },
  {
   "cell_type": "code",
   "execution_count": 25,
   "id": "4a1973a3",
   "metadata": {},
   "outputs": [],
   "source": [
    "provider = IBMQ.get_provider('ibm-q')"
   ]
  },
  {
   "cell_type": "code",
   "execution_count": 26,
   "id": "72d1286a",
   "metadata": {},
   "outputs": [],
   "source": [
    "qcomp = provider.get_backend('simulator_mps') #100 Qubits"
   ]
  },
  {
   "cell_type": "code",
   "execution_count": 27,
   "id": "753e3430",
   "metadata": {},
   "outputs": [],
   "source": [
    "job = execute(circuit, backend=qcomp)"
   ]
  },
  {
   "cell_type": "code",
   "execution_count": 28,
   "id": "3f4297a8",
   "metadata": {},
   "outputs": [],
   "source": [
    "from qiskit.tools.monitor import job_monitor"
   ]
  },
  {
   "cell_type": "code",
   "execution_count": 29,
   "id": "33d0574b",
   "metadata": {},
   "outputs": [
    {
     "name": "stdout",
     "output_type": "stream",
     "text": [
      "Job Status: job has successfully run\n"
     ]
    }
   ],
   "source": [
    "job_monitor(job)"
   ]
  },
  {
   "cell_type": "code",
   "execution_count": 30,
   "id": "313df131",
   "metadata": {},
   "outputs": [],
   "source": [
    "result = job.result()"
   ]
  },
  {
   "cell_type": "code",
   "execution_count": 31,
   "id": "31810664",
   "metadata": {},
   "outputs": [
    {
     "data": {
      "image/png": "[encoded data removed]",
      "text/plain": [
       "<Figure size 700x500 with 1 Axes>"
      ]
     },
     "execution_count": 31,
     "metadata": {},
     "output_type": "execute_result"
    }
   ],
   "source": [
    "plot_histogram(result.get_counts(circuit))"
   ]
  },
  {
   "attachments": {},
   "cell_type": "markdown",
   "id": "3516f111",
   "metadata": {},
   "source": [
    "ลอจิกเกต | Gates"
   ]
  },
  {
   "cell_type": "code",
   "execution_count": 32,
   "id": "b0330cb4",
   "metadata": {},
   "outputs": [],
   "source": [
    "from qiskit import *"
   ]
  },
  {
   "cell_type": "code",
   "execution_count": 33,
   "id": "7440fade",
   "metadata": {},
   "outputs": [],
   "source": [
    "from qiskit.tools.visualization import  plot_bloch_multivector"
   ]
  },
  {
   "cell_type": "code",
   "execution_count": 34,
   "id": "a2b34257",
   "metadata": {},
   "outputs": [
    {
     "name": "stdout",
     "output_type": "stream",
     "text": [
      "Statevector([0.+0.j, 1.+0.j],\n",
      "            dims=(2,))\n"
     ]
    }
   ],
   "source": [
    "circuit = QuantumCircuit(1,1)\n",
    "circuit.x(0)\n",
    "simulator = Aer.get_backend('statevector_simulator')\n",
    "result = execute(circuit, backend= simulator).result()\n",
    "statevector = result.get_statevector()\n",
    "print(statevector)"
   ]
  },
  {
   "cell_type": "code",
   "execution_count": 35,
   "id": "182ae77d",
   "metadata": {},
   "outputs": [
    {
     "data": {
      "text/html": [
       "<pre style=\"word-wrap: normal;white-space: pre;background: #fff0;line-height: 1.1;font-family: &quot;Courier New&quot;,Courier,monospace\">     ┌───┐\n",
       "  q: ┤ X ├\n",
       "     └───┘\n",
       "c: 1/═════\n",
       "          </pre>"
      ],
      "text/plain": [
       "     ┌───┐\n",
       "  q: ┤ X ├\n",
       "     └───┘\n",
       "c: 1/═════\n",
       "          "
      ]
     },
     "execution_count": 35,
     "metadata": {},
     "output_type": "execute_result"
    }
   ],
   "source": [
    "circuit.draw()"
   ]
  },
  {
   "cell_type": "code",
   "execution_count": 36,
   "id": "4a600e3a",
   "metadata": {},
   "outputs": [
    {
     "data": {
      "image/png": "[encoded data removed]",
      "text/plain": [
       "<Figure size 480x480 with 1 Axes>"
      ]
     },
     "execution_count": 36,
     "metadata": {},
     "output_type": "execute_result"
    }
   ],
   "source": [
    "plot_bloch_multivector(statevector)"
   ]
  },
  {
   "cell_type": "code",
   "execution_count": 37,
   "id": "f2419d0e",
   "metadata": {},
   "outputs": [
    {
     "data": {
      "image/png": "[encoded data removed]",
      "text/plain": [
       "<Figure size 700x500 with 1 Axes>"
      ]
     },
     "execution_count": 37,
     "metadata": {},
     "output_type": "execute_result"
    }
   ],
   "source": [
    "circuit.measure([0], [0])\n",
    "backend = Aer.get_backend('qasm_simulator')\n",
    "result = execute(circuit, backend= backend, shots= 1024).result()\n",
    "counts = result.get_counts()\n",
    "from qiskit.tools.visualization import  plot_histogram\n",
    "plot_histogram(counts)"
   ]
  },
  {
   "cell_type": "code",
   "execution_count": 38,
   "id": "d341c8af",
   "metadata": {},
   "outputs": [
    {
     "name": "stdout",
     "output_type": "stream",
     "text": [
      "Operator([[0.+0.j, 1.+0.j],\n",
      "          [1.+0.j, 0.+0.j]],\n",
      "         input_dims=(2,), output_dims=(2,))\n"
     ]
    }
   ],
   "source": [
    "circuit = QuantumCircuit(1,1)\n",
    "circuit.x(0)\n",
    "simulator = Aer.get_backend('unitary_simulator')\n",
    "result = execute(circuit, backend= simulator).result()\n",
    "unitary = result.get_unitary()\n",
    "print(unitary)"
   ]
  },
  {
   "attachments": {},
   "cell_type": "markdown",
   "id": "cd3df13e",
   "metadata": {},
   "source": [
    "เทเลพอร์ต | Teleportation"
   ]
  },
  {
   "cell_type": "code",
   "execution_count": 39,
   "id": "5a9aea52",
   "metadata": {},
   "outputs": [],
   "source": [
    "from qiskit import *"
   ]
  },
  {
   "cell_type": "code",
   "execution_count": 40,
   "id": "0b49d483",
   "metadata": {},
   "outputs": [],
   "source": [
    "circuit = QuantumCircuit(3, 3)"
   ]
  },
  {
   "cell_type": "code",
   "execution_count": 41,
   "id": "4cfb087b",
   "metadata": {},
   "outputs": [],
   "source": [
    "%matplotlib inline"
   ]
  },
  {
   "cell_type": "code",
   "execution_count": 42,
   "id": "87afe216",
   "metadata": {},
   "outputs": [
    {
     "data": {
      "text/html": [
       "<pre style=\"word-wrap: normal;white-space: pre;background: #fff0;line-height: 1.1;font-family: &quot;Courier New&quot;,Courier,monospace\">     \n",
       "q_0: \n",
       "     \n",
       "q_1: \n",
       "     \n",
       "q_2: \n",
       "     \n",
       "c: 3/\n",
       "     </pre>"
      ],
      "text/plain": [
       "     \n",
       "q_0: \n",
       "     \n",
       "q_1: \n",
       "     \n",
       "q_2: \n",
       "     \n",
       "c: 3/\n",
       "     "
      ]
     },
     "execution_count": 42,
     "metadata": {},
     "output_type": "execute_result"
    }
   ],
   "source": [
    "circuit.draw()"
   ]
  },
  {
   "cell_type": "code",
   "execution_count": 43,
   "id": "93362c40",
   "metadata": {},
   "outputs": [
    {
     "data": {
      "text/html": [
       "<pre style=\"word-wrap: normal;white-space: pre;background: #fff0;line-height: 1.1;font-family: &quot;Courier New&quot;,Courier,monospace\">     ┌───┐ ░ \n",
       "q_0: ┤ X ├─░─\n",
       "     └───┘ ░ \n",
       "q_1: ──────░─\n",
       "           ░ \n",
       "q_2: ──────░─\n",
       "           ░ \n",
       "c: 3/════════\n",
       "             </pre>"
      ],
      "text/plain": [
       "     ┌───┐ ░ \n",
       "q_0: ┤ X ├─░─\n",
       "     └───┘ ░ \n",
       "q_1: ──────░─\n",
       "           ░ \n",
       "q_2: ──────░─\n",
       "           ░ \n",
       "c: 3/════════\n",
       "             "
      ]
     },
     "execution_count": 43,
     "metadata": {},
     "output_type": "execute_result"
    }
   ],
   "source": [
    "circuit.x(0)\n",
    "circuit.barrier()\n",
    "circuit.draw()"
   ]
  },
  {
   "cell_type": "code",
   "execution_count": 44,
   "id": "61019c7a",
   "metadata": {},
   "outputs": [
    {
     "data": {
      "text/plain": [
       "<qiskit.circuit.instructionset.InstructionSet at 0x7fe6b1f22950>"
      ]
     },
     "execution_count": 44,
     "metadata": {},
     "output_type": "execute_result"
    }
   ],
   "source": [
    "circuit.h(1)\n",
    "circuit.cx(1,2)"
   ]
  },
  {
   "cell_type": "code",
   "execution_count": 45,
   "id": "1776d21d",
   "metadata": {},
   "outputs": [
    {
     "data": {
      "text/html": [
       "<pre style=\"word-wrap: normal;white-space: pre;background: #fff0;line-height: 1.1;font-family: &quot;Courier New&quot;,Courier,monospace\">     ┌───┐ ░           \n",
       "q_0: ┤ X ├─░───────────\n",
       "     └───┘ ░ ┌───┐     \n",
       "q_1: ──────░─┤ H ├──■──\n",
       "           ░ └───┘┌─┴─┐\n",
       "q_2: ──────░──────┤ X ├\n",
       "           ░      └───┘\n",
       "c: 3/══════════════════\n",
       "                       </pre>"
      ],
      "text/plain": [
       "     ┌───┐ ░           \n",
       "q_0: ┤ X ├─░───────────\n",
       "     └───┘ ░ ┌───┐     \n",
       "q_1: ──────░─┤ H ├──■──\n",
       "           ░ └───┘┌─┴─┐\n",
       "q_2: ──────░──────┤ X ├\n",
       "           ░      └───┘\n",
       "c: 3/══════════════════\n",
       "                       "
      ]
     },
     "execution_count": 45,
     "metadata": {},
     "output_type": "execute_result"
    }
   ],
   "source": [
    "circuit.draw()"
   ]
  },
  {
   "cell_type": "code",
   "execution_count": 46,
   "id": "7b9d62ab",
   "metadata": {},
   "outputs": [
    {
     "data": {
      "text/html": [
       "<pre style=\"word-wrap: normal;white-space: pre;background: #fff0;line-height: 1.1;font-family: &quot;Courier New&quot;,Courier,monospace\">     ┌───┐ ░                ┌───┐\n",
       "q_0: ┤ X ├─░─────────────■──┤ H ├\n",
       "     └───┘ ░ ┌───┐     ┌─┴─┐└───┘\n",
       "q_1: ──────░─┤ H ├──■──┤ X ├─────\n",
       "           ░ └───┘┌─┴─┐└───┘     \n",
       "q_2: ──────░──────┤ X ├──────────\n",
       "           ░      └───┘          \n",
       "c: 3/════════════════════════════\n",
       "                                 </pre>"
      ],
      "text/plain": [
       "     ┌───┐ ░                ┌───┐\n",
       "q_0: ┤ X ├─░─────────────■──┤ H ├\n",
       "     └───┘ ░ ┌───┐     ┌─┴─┐└───┘\n",
       "q_1: ──────░─┤ H ├──■──┤ X ├─────\n",
       "           ░ └───┘┌─┴─┐└───┘     \n",
       "q_2: ──────░──────┤ X ├──────────\n",
       "           ░      └───┘          \n",
       "c: 3/════════════════════════════\n",
       "                                 "
      ]
     },
     "execution_count": 46,
     "metadata": {},
     "output_type": "execute_result"
    }
   ],
   "source": [
    "circuit.cx(0,1)\n",
    "circuit.h(0)\n",
    "circuit.draw()"
   ]
  },
  {
   "cell_type": "code",
   "execution_count": 47,
   "id": "32f96cb8",
   "metadata": {},
   "outputs": [
    {
     "data": {
      "text/html": [
       "<pre style=\"word-wrap: normal;white-space: pre;background: #fff0;line-height: 1.1;font-family: &quot;Courier New&quot;,Courier,monospace\">     ┌───┐ ░                ┌───┐ ░ ┌─┐   \n",
       "q_0: ┤ X ├─░─────────────■──┤ H ├─░─┤M├───\n",
       "     └───┘ ░ ┌───┐     ┌─┴─┐└───┘ ░ └╥┘┌─┐\n",
       "q_1: ──────░─┤ H ├──■──┤ X ├──────░──╫─┤M├\n",
       "           ░ └───┘┌─┴─┐└───┘      ░  ║ └╥┘\n",
       "q_2: ──────░──────┤ X ├───────────░──╫──╫─\n",
       "           ░      └───┘           ░  ║  ║ \n",
       "c: 3/════════════════════════════════╩══╩═\n",
       "                                     0  1 </pre>"
      ],
      "text/plain": [
       "     ┌───┐ ░                ┌───┐ ░ ┌─┐   \n",
       "q_0: ┤ X ├─░─────────────■──┤ H ├─░─┤M├───\n",
       "     └───┘ ░ ┌───┐     ┌─┴─┐└───┘ ░ └╥┘┌─┐\n",
       "q_1: ──────░─┤ H ├──■──┤ X ├──────░──╫─┤M├\n",
       "           ░ └───┘┌─┴─┐└───┘      ░  ║ └╥┘\n",
       "q_2: ──────░──────┤ X ├───────────░──╫──╫─\n",
       "           ░      └───┘           ░  ║  ║ \n",
       "c: 3/════════════════════════════════╩══╩═\n",
       "                                     0  1 "
      ]
     },
     "execution_count": 47,
     "metadata": {},
     "output_type": "execute_result"
    }
   ],
   "source": [
    "circuit.barrier()\n",
    "circuit.measure([0,1], [0,1])\n",
    "circuit.draw()"
   ]
  },
  {
   "cell_type": "code",
   "execution_count": 48,
   "id": "fe65f574",
   "metadata": {},
   "outputs": [
    {
     "data": {
      "text/html": [
       "<pre style=\"word-wrap: normal;white-space: pre;background: #fff0;line-height: 1.1;font-family: &quot;Courier New&quot;,Courier,monospace\">     ┌───┐ ░                ┌───┐ ░ ┌─┐    ░         \n",
       "q_0: ┤ X ├─░─────────────■──┤ H ├─░─┤M├────░───────■─\n",
       "     └───┘ ░ ┌───┐     ┌─┴─┐└───┘ ░ └╥┘┌─┐ ░       │ \n",
       "q_1: ──────░─┤ H ├──■──┤ X ├──────░──╫─┤M├─░───■───┼─\n",
       "           ░ └───┘┌─┴─┐└───┘      ░  ║ └╥┘ ░ ┌─┴─┐ │ \n",
       "q_2: ──────░──────┤ X ├───────────░──╫──╫──░─┤ X ├─■─\n",
       "           ░      └───┘           ░  ║  ║  ░ └───┘   \n",
       "c: 3/════════════════════════════════╩══╩════════════\n",
       "                                     0  1            </pre>"
      ],
      "text/plain": [
       "     ┌───┐ ░                ┌───┐ ░ ┌─┐    ░         \n",
       "q_0: ┤ X ├─░─────────────■──┤ H ├─░─┤M├────░───────■─\n",
       "     └───┘ ░ ┌───┐     ┌─┴─┐└───┘ ░ └╥┘┌─┐ ░       │ \n",
       "q_1: ──────░─┤ H ├──■──┤ X ├──────░──╫─┤M├─░───■───┼─\n",
       "           ░ └───┘┌─┴─┐└───┘      ░  ║ └╥┘ ░ ┌─┴─┐ │ \n",
       "q_2: ──────░──────┤ X ├───────────░──╫──╫──░─┤ X ├─■─\n",
       "           ░      └───┘           ░  ║  ║  ░ └───┘   \n",
       "c: 3/════════════════════════════════╩══╩════════════\n",
       "                                     0  1            "
      ]
     },
     "execution_count": 48,
     "metadata": {},
     "output_type": "execute_result"
    }
   ],
   "source": [
    "circuit.barrier()\n",
    "circuit.cx(1,2)\n",
    "circuit.cz(0,2)\n",
    "circuit.draw()"
   ]
  },
  {
   "cell_type": "code",
   "execution_count": 49,
   "id": "867a3428",
   "metadata": {},
   "outputs": [
    {
     "data": {
      "image/png": "[encoded data removed]",
      "text/plain": [
       "<Figure size 700x500 with 1 Axes>"
      ]
     },
     "execution_count": 49,
     "metadata": {},
     "output_type": "execute_result"
    }
   ],
   "source": [
    "circuit.measure(2,2)\n",
    "simulator = Aer.get_backend('qasm_simulator')\n",
    "result = execute(circuit, backend = simulator, shots = 1024).result()\n",
    "counts = result.get_counts()\n",
    "from qiskit.tools.visualization import plot_histogram\n",
    "plot_histogram(counts)"
   ]
  },
  {
   "cell_type": "code",
   "execution_count": 50,
   "id": "7774473c",
   "metadata": {},
   "outputs": [
    {
     "name": "stdout",
     "output_type": "stream",
     "text": [
      "{'110': 260, '101': 243, '100': 293, '111': 228}\n"
     ]
    }
   ],
   "source": [
    "print(counts)"
   ]
  },
  {
   "attachments": {},
   "cell_type": "markdown",
   "id": "07e69da2",
   "metadata": {},
   "source": [
    "อัลกอริทึม | Bernstein Vazirani"
   ]
  },
  {
   "cell_type": "code",
   "execution_count": 51,
   "id": "99b1ae03",
   "metadata": {},
   "outputs": [],
   "source": [
    "from qiskit import *\n",
    "%matplotlib inline\n",
    "from qiskit.tools.visualization import plot_histogram"
   ]
  },
  {
   "cell_type": "code",
   "execution_count": 52,
   "id": "a1f68a8b",
   "metadata": {},
   "outputs": [],
   "source": [
    "secretnumber = '111000000001'"
   ]
  },
  {
   "cell_type": "code",
   "execution_count": 53,
   "id": "f58edcb8",
   "metadata": {},
   "outputs": [
    {
     "data": {
      "text/plain": [
       "<qiskit.circuit.instructionset.InstructionSet at 0x7fe6b1f7b400>"
      ]
     },
     "execution_count": 53,
     "metadata": {},
     "output_type": "execute_result"
    }
   ],
   "source": [
    "#circuit = QuantumCircuit(6+1, 6)\n",
    "circuit = QuantumCircuit(len(secretnumber)+1, len(secretnumber))\n",
    "\n",
    "#circuit.h([0,1,2,3,4,5])\n",
    "circuit.h(range(len(secretnumber)))\n",
    "#circuit.x(6)\n",
    "circuit.x(len(secretnumber))\n",
    "#circuit.h(6)\n",
    "circuit.h(len(secretnumber))\n",
    "\n",
    "circuit.barrier()\n",
    "\n",
    "for ii, yesno in enumerate(reversed(secretnumber)):\n",
    "    if yesno == '1':\n",
    "        circuit.cx(ii, len(secretnumber))\n",
    "\n",
    "#circuit.cx(5, 6)\n",
    "#circuit.cx(3, 6)\n",
    "#circuit.cx(0, 6)\n",
    "\n",
    "circuit.barrier()\n",
    "#circuit.h([0,1,2,3,4,5])\n",
    "circuit.h(range(len(secretnumber)))\n",
    "circuit.barrier()\n",
    "#circuit.measure([0,1,2,3,4,5], [0,1,2,3,4,5])\n",
    "circuit.measure(range(len(secretnumber)), range(len(secretnumber)))"
   ]
  },
  {
   "cell_type": "code",
   "execution_count": 54,
   "id": "8dbf69da",
   "metadata": {},
   "outputs": [
    {
     "data": {
      "text/html": [
       "<pre style=\"word-wrap: normal;white-space: pre;background: #fff0;line-height: 1.1;font-family: &quot;Courier New&quot;,Courier,monospace\">      ┌───┐      ░                      ░ ┌───┐ ░ ┌─┐                        »\n",
       " q_0: ┤ H ├──────░───■──────────────────░─┤ H ├─░─┤M├────────────────────────»\n",
       "      ├───┤      ░   │                  ░ ├───┤ ░ └╥┘┌─┐                     »\n",
       " q_1: ┤ H ├──────░───┼──────────────────░─┤ H ├─░──╫─┤M├─────────────────────»\n",
       "      ├───┤      ░   │                  ░ ├───┤ ░  ║ └╥┘┌─┐                  »\n",
       " q_2: ┤ H ├──────░───┼──────────────────░─┤ H ├─░──╫──╫─┤M├──────────────────»\n",
       "      ├───┤      ░   │                  ░ ├───┤ ░  ║  ║ └╥┘┌─┐               »\n",
       " q_3: ┤ H ├──────░───┼──────────────────░─┤ H ├─░──╫──╫──╫─┤M├───────────────»\n",
       "      ├───┤      ░   │                  ░ ├───┤ ░  ║  ║  ║ └╥┘┌─┐            »\n",
       " q_4: ┤ H ├──────░───┼──────────────────░─┤ H ├─░──╫──╫──╫──╫─┤M├────────────»\n",
       "      ├───┤      ░   │                  ░ ├───┤ ░  ║  ║  ║  ║ └╥┘┌─┐         »\n",
       " q_5: ┤ H ├──────░───┼──────────────────░─┤ H ├─░──╫──╫──╫──╫──╫─┤M├─────────»\n",
       "      ├───┤      ░   │                  ░ ├───┤ ░  ║  ║  ║  ║  ║ └╥┘┌─┐      »\n",
       " q_6: ┤ H ├──────░───┼──────────────────░─┤ H ├─░──╫──╫──╫──╫──╫──╫─┤M├──────»\n",
       "      ├───┤      ░   │                  ░ ├───┤ ░  ║  ║  ║  ║  ║  ║ └╥┘┌─┐   »\n",
       " q_7: ┤ H ├──────░───┼──────────────────░─┤ H ├─░──╫──╫──╫──╫──╫──╫──╫─┤M├───»\n",
       "      ├───┤      ░   │                  ░ ├───┤ ░  ║  ║  ║  ║  ║  ║  ║ └╥┘┌─┐»\n",
       " q_8: ┤ H ├──────░───┼──────────────────░─┤ H ├─░──╫──╫──╫──╫──╫──╫──╫──╫─┤M├»\n",
       "      ├───┤      ░   │                  ░ ├───┤ ░  ║  ║  ║  ║  ║  ║  ║  ║ └╥┘»\n",
       " q_9: ┤ H ├──────░───┼────■─────────────░─┤ H ├─░──╫──╫──╫──╫──╫──╫──╫──╫──╫─»\n",
       "      ├───┤      ░   │    │             ░ ├───┤ ░  ║  ║  ║  ║  ║  ║  ║  ║  ║ »\n",
       "q_10: ┤ H ├──────░───┼────┼────■────────░─┤ H ├─░──╫──╫──╫──╫──╫──╫──╫──╫──╫─»\n",
       "      ├───┤      ░   │    │    │        ░ ├───┤ ░  ║  ║  ║  ║  ║  ║  ║  ║  ║ »\n",
       "q_11: ┤ H ├──────░───┼────┼────┼────■───░─┤ H ├─░──╫──╫──╫──╫──╫──╫──╫──╫──╫─»\n",
       "      ├───┤┌───┐ ░ ┌─┴─┐┌─┴─┐┌─┴─┐┌─┴─┐ ░ └───┘ ░  ║  ║  ║  ║  ║  ║  ║  ║  ║ »\n",
       "q_12: ┤ X ├┤ H ├─░─┤ X ├┤ X ├┤ X ├┤ X ├─░───────░──╫──╫──╫──╫──╫──╫──╫──╫──╫─»\n",
       "      └───┘└───┘ ░ └───┘└───┘└───┘└───┘ ░       ░  ║  ║  ║  ║  ║  ║  ║  ║  ║ »\n",
       "c: 12/═════════════════════════════════════════════╩══╩══╩══╩══╩══╩══╩══╩══╩═»\n",
       "                                                   0  1  2  3  4  5  6  7  8 »\n",
       "«               \n",
       "« q_0: ─────────\n",
       "«               \n",
       "« q_1: ─────────\n",
       "«               \n",
       "« q_2: ─────────\n",
       "«               \n",
       "« q_3: ─────────\n",
       "«               \n",
       "« q_4: ─────────\n",
       "«               \n",
       "« q_5: ─────────\n",
       "«               \n",
       "« q_6: ─────────\n",
       "«               \n",
       "« q_7: ─────────\n",
       "«               \n",
       "« q_8: ─────────\n",
       "«      ┌─┐      \n",
       "« q_9: ┤M├──────\n",
       "«      └╥┘┌─┐   \n",
       "«q_10: ─╫─┤M├───\n",
       "«       ║ └╥┘┌─┐\n",
       "«q_11: ─╫──╫─┤M├\n",
       "«       ║  ║ └╥┘\n",
       "«q_12: ─╫──╫──╫─\n",
       "«       ║  ║  ║ \n",
       "«c: 12/═╩══╩══╩═\n",
       "«       9  10 11</pre>"
      ],
      "text/plain": [
       "      ┌───┐      ░                      ░ ┌───┐ ░ ┌─┐                        »\n",
       " q_0: ┤ H ├──────░───■──────────────────░─┤ H ├─░─┤M├────────────────────────»\n",
       "      ├───┤      ░   │                  ░ ├───┤ ░ └╥┘┌─┐                     »\n",
       " q_1: ┤ H ├──────░───┼──────────────────░─┤ H ├─░──╫─┤M├─────────────────────»\n",
       "      ├───┤      ░   │                  ░ ├───┤ ░  ║ └╥┘┌─┐                  »\n",
       " q_2: ┤ H ├──────░───┼──────────────────░─┤ H ├─░──╫──╫─┤M├──────────────────»\n",
       "      ├───┤      ░   │                  ░ ├───┤ ░  ║  ║ └╥┘┌─┐               »\n",
       " q_3: ┤ H ├──────░───┼──────────────────░─┤ H ├─░──╫──╫──╫─┤M├───────────────»\n",
       "      ├───┤      ░   │                  ░ ├───┤ ░  ║  ║  ║ └╥┘┌─┐            »\n",
       " q_4: ┤ H ├──────░───┼──────────────────░─┤ H ├─░──╫──╫──╫──╫─┤M├────────────»\n",
       "      ├───┤      ░   │                  ░ ├───┤ ░  ║  ║  ║  ║ └╥┘┌─┐         »\n",
       " q_5: ┤ H ├──────░───┼──────────────────░─┤ H ├─░──╫──╫──╫──╫──╫─┤M├─────────»\n",
       "      ├───┤      ░   │                  ░ ├───┤ ░  ║  ║  ║  ║  ║ └╥┘┌─┐      »\n",
       " q_6: ┤ H ├──────░───┼──────────────────░─┤ H ├─░──╫──╫──╫──╫──╫──╫─┤M├──────»\n",
       "      ├───┤      ░   │                  ░ ├───┤ ░  ║  ║  ║  ║  ║  ║ └╥┘┌─┐   »\n",
       " q_7: ┤ H ├──────░───┼──────────────────░─┤ H ├─░──╫──╫──╫──╫──╫──╫──╫─┤M├───»\n",
       "      ├───┤      ░   │                  ░ ├───┤ ░  ║  ║  ║  ║  ║  ║  ║ └╥┘┌─┐»\n",
       " q_8: ┤ H ├──────░───┼──────────────────░─┤ H ├─░──╫──╫──╫──╫──╫──╫──╫──╫─┤M├»\n",
       "      ├───┤      ░   │                  ░ ├───┤ ░  ║  ║  ║  ║  ║  ║  ║  ║ └╥┘»\n",
       " q_9: ┤ H ├──────░───┼────■─────────────░─┤ H ├─░──╫──╫──╫──╫──╫──╫──╫──╫──╫─»\n",
       "      ├───┤      ░   │    │             ░ ├───┤ ░  ║  ║  ║  ║  ║  ║  ║  ║  ║ »\n",
       "q_10: ┤ H ├──────░───┼────┼────■────────░─┤ H ├─░──╫──╫──╫──╫──╫──╫──╫──╫──╫─»\n",
       "      ├───┤      ░   │    │    │        ░ ├───┤ ░  ║  ║  ║  ║  ║  ║  ║  ║  ║ »\n",
       "q_11: ┤ H ├──────░───┼────┼────┼────■───░─┤ H ├─░──╫──╫──╫──╫──╫──╫──╫──╫──╫─»\n",
       "      ├───┤┌───┐ ░ ┌─┴─┐┌─┴─┐┌─┴─┐┌─┴─┐ ░ └───┘ ░  ║  ║  ║  ║  ║  ║  ║  ║  ║ »\n",
       "q_12: ┤ X ├┤ H ├─░─┤ X ├┤ X ├┤ X ├┤ X ├─░───────░──╫──╫──╫──╫──╫──╫──╫──╫──╫─»\n",
       "      └───┘└───┘ ░ └───┘└───┘└───┘└───┘ ░       ░  ║  ║  ║  ║  ║  ║  ║  ║  ║ »\n",
       "c: 12/═════════════════════════════════════════════╩══╩══╩══╩══╩══╩══╩══╩══╩═»\n",
       "                                                   0  1  2  3  4  5  6  7  8 »\n",
       "«               \n",
       "« q_0: ─────────\n",
       "«               \n",
       "« q_1: ─────────\n",
       "«               \n",
       "« q_2: ─────────\n",
       "«               \n",
       "« q_3: ─────────\n",
       "«               \n",
       "« q_4: ─────────\n",
       "«               \n",
       "« q_5: ─────────\n",
       "«               \n",
       "« q_6: ─────────\n",
       "«               \n",
       "« q_7: ─────────\n",
       "«               \n",
       "« q_8: ─────────\n",
       "«      ┌─┐      \n",
       "« q_9: ┤M├──────\n",
       "«      └╥┘┌─┐   \n",
       "«q_10: ─╫─┤M├───\n",
       "«       ║ └╥┘┌─┐\n",
       "«q_11: ─╫──╫─┤M├\n",
       "«       ║  ║ └╥┘\n",
       "«q_12: ─╫──╫──╫─\n",
       "«       ║  ║  ║ \n",
       "«c: 12/═╩══╩══╩═\n",
       "«       9  10 11"
      ]
     },
     "execution_count": 54,
     "metadata": {},
     "output_type": "execute_result"
    }
   ],
   "source": [
    "circuit.draw()"
   ]
  },
  {
   "cell_type": "code",
   "execution_count": 55,
   "id": "b8923637",
   "metadata": {},
   "outputs": [
    {
     "name": "stdout",
     "output_type": "stream",
     "text": [
      "{'111000000001': 1}\n"
     ]
    }
   ],
   "source": [
    "simulator = Aer.get_backend('qasm_simulator')\n",
    "result = execute(circuit, backend= simulator, shots= 1).result()\n",
    "counts = result.get_counts()\n",
    "print(counts)"
   ]
  },
  {
   "attachments": {},
   "cell_type": "markdown",
   "id": "acc9a6d7",
   "metadata": {},
   "source": [
    "Programming on Quantum Computeres"
   ]
  },
  {
   "cell_type": "code",
   "execution_count": 56,
   "id": "99ea419d",
   "metadata": {},
   "outputs": [
    {
     "name": "stdout",
     "output_type": "stream",
     "text": [
      "01010100 01101000 01100101 01000011 01101111 01100001 01100011 01101000 01101001 01101110 01100111 01001111 01101110 01101100 01101001 01101110 01100101\n"
     ]
    }
   ],
   "source": [
    "text = \"TheCoachingOnline\"\n",
    "binary_strings = []\n",
    "for char in text:\n",
    "    ascii_code = ord(char)\n",
    "    binary_string = bin(ascii_code)[2:].zfill(8)\n",
    "    binary_strings.append(binary_string)\n",
    "binary_text = \" \".join(binary_strings)\n",
    "print(binary_text)"
   ]
  },
  {
   "cell_type": "code",
   "execution_count": 57,
   "id": "09677c18",
   "metadata": {},
   "outputs": [
    {
     "name": "stdout",
     "output_type": "stream",
     "text": [
      "TheCoachingOnline\n"
     ]
    }
   ],
   "source": [
    "binary_text = \"01010100 01101000 01100101 01000011 01101111 01100001 01100011 01101000 01101001 01101110 01100111 01001111 01101110 01101100 01101001 01101110 01100101\"\n",
    "binary_strings = binary_text.split()\n",
    "text = \"\"\n",
    "for binary_string in binary_strings:\n",
    "    ascii_code = int(binary_string, 2)\n",
    "    char = chr(ascii_code)\n",
    "    text += char\n",
    "print(text)"
   ]
  },
  {
   "cell_type": "code",
   "execution_count": 58,
   "id": "86d4e6a9",
   "metadata": {},
   "outputs": [
    {
     "name": "stdout",
     "output_type": "stream",
     "text": [
      "Requirement already satisfied: pycryptodome in /usr/local/python/3.10.4/lib/python3.10/site-packages (3.17)\n",
      "\n",
      "\u001b[1m[\u001b[0m\u001b[34;49mnotice\u001b[0m\u001b[1;39;49m]\u001b[0m\u001b[39;49m A new release of pip is available: \u001b[0m\u001b[31;49m23.0.1\u001b[0m\u001b[39;49m -> \u001b[0m\u001b[32;49m23.1\u001b[0m\n",
      "\u001b[1m[\u001b[0m\u001b[34;49mnotice\u001b[0m\u001b[1;39;49m]\u001b[0m\u001b[39;49m To update, run: \u001b[0m\u001b[32;49mpip install --upgrade pip\u001b[0m\n",
      "Note: you may need to restart the kernel to use updated packages.\n"
     ]
    }
   ],
   "source": [
    "pip install pycryptodome"
   ]
  },
  {
   "cell_type": "code",
   "execution_count": 59,
   "id": "7bea5564",
   "metadata": {},
   "outputs": [
    {
     "name": "stdout",
     "output_type": "stream",
     "text": [
      "01011110100010010101111100110100111101001110111111001010100000100010101101100111011100100110001011000110110111101011011110000110111111000010100010101001101010010001101100100111011110110010000001000001110011010111010011011001101001101011000001000000110110011100100111100111011100100010101111011000101000111011011001011110011100000100101101110000100001111101110110000111100001100001011111100111111101101111101001100011100110001111001100110100110000111101101000110010010101100111101001110110111111011010111011000111100001101010111110100101110011100011011100101111111011001001001000001011100100000000001010011011000000011000111110010011001000000000001110000001001001101101111101010101110011010011011001010101000101010001010110111001110101010000101100101000101001101100101111110111011000010000001000000100011000001001110010001010000010100100011100000000101111101001001010010010101111011110001011010111\n"
     ]
    }
   ],
   "source": [
    "from Crypto.Cipher import AES\n",
    "from Crypto.Util.Padding import pad, unpad\n",
    "\n",
    "# define the key and block size\n",
    "key = b\"MySecretPassword\"\n",
    "block_size = 16\n",
    "\n",
    "# the plaintext message to be encrypted\n",
    "plaintext = \"Y.Nanthachai!\"\n",
    "\n",
    "# convert the plaintext message to binary string in base 2\n",
    "binary_text = \"\".join([format(ord(char), '08b') for char in plaintext])\n",
    "\n",
    "# pad the binary text to the block size\n",
    "padded_binary_text = pad(binary_text.encode(), block_size)\n",
    "\n",
    "# create the AES cipher object\n",
    "cipher = AES.new(key, AES.MODE_ECB)\n",
    "\n",
    "# encrypt the padded binary text\n",
    "encrypted_binary_text = cipher.encrypt(padded_binary_text)\n",
    "\n",
    "# convert the encrypted binary text to binary string in base 2\n",
    "encrypted_binary_string = \"\".join([format(byte, '08b') for byte in encrypted_binary_text])\n",
    "\n",
    "# the binary string in base 2 that represents the encrypted message\n",
    "print(encrypted_binary_string)"
   ]
  },
  {
   "cell_type": "code",
   "execution_count": 60,
   "id": "f9c9fa74",
   "metadata": {},
   "outputs": [
    {
     "name": "stdout",
     "output_type": "stream",
     "text": [
      "Y.Nanthachai!\n"
     ]
    }
   ],
   "source": [
    "from Crypto.Cipher import AES\n",
    "from Crypto.Util.Padding import pad, unpad\n",
    "\n",
    "# define the key and block size\n",
    "key = b\"MySecretPassword\"\n",
    "block_size = 16\n",
    "\n",
    "# the binary string in base 2 that represents the encrypted message\n",
    "encrypted_binary_string = \"01011110100010010101111100110100111101001110111111001010100000100010101101100111011100100110001011000110110111101011011110000110111111000010100010101001101010010001101100100111011110110010000001000001110011010111010011011001101001101011000001000000110110011100100111100111011100100010101111011000101000111011011001011110011100000100101101110000100001111101110110000111100001100001011111100111111101101111101001100011100110001111001100110100110000111101101000110010010101100111101001110110111111011010111011000111100001101010111110100101110011100011011100101111111011001001001000001011100100000000001010011011000000011000111110010011001000000000001110000001001001101101111101010101110011010011011001010101000101010001010110111001110101010000101100101000101001101100101111110111011000010000001000000100011000001001110010001010000010100100011100000000101111101001001010010010101111011110001011010111\"\n",
    "\n",
    "# convert the binary string to encrypted binary text\n",
    "encrypted_binary_text = bytes([int(encrypted_binary_string[i:i+8], 2) for i in range(0, len(encrypted_binary_string), 8)])\n",
    "\n",
    "# create the AES cipher object\n",
    "cipher = AES.new(key, AES.MODE_ECB)\n",
    "\n",
    "# decrypt the encrypted binary text\n",
    "decrypted_padded_binary_text = cipher.decrypt(encrypted_binary_text)\n",
    "\n",
    "# remove the padding from the decrypted binary text\n",
    "decrypted_binary_text = unpad(decrypted_padded_binary_text, block_size)\n",
    "\n",
    "# convert the decrypted binary text to ASCII text\n",
    "decrypted_text = \"\".join([chr(int(decrypted_binary_text[i:i+8], 2)) for i in range(0, len(decrypted_binary_text), 8)])\n",
    "\n",
    "# the decrypted ASCII text\n",
    "print(decrypted_text)"
   ]
  },
  {
   "cell_type": "code",
   "execution_count": 96,
   "id": "1adca567",
   "metadata": {},
   "outputs": [
    {
     "name": "stdout",
     "output_type": "stream",
     "text": [
      "0010011001001000111110110111011101001010101010100001010101110100100100111100001000001010101000010111011101101010001010011011010100001011011011101011011000000001010110000010100100111101001111010110111110111100111010011011000111000001011111111110011100011011\n"
     ]
    }
   ],
   "source": [
    "import hashlib\n",
    "\n",
    "message = \"Y.Nanthachai!\"\n",
    "\n",
    "# Convert text message to byte string\n",
    "text_bytes = message.encode()\n",
    "\n",
    "# Create hash object\n",
    "hash_object = hashlib.sha256()\n",
    "\n",
    "# Update hash object with text_bytes\n",
    "hash_object.update(text_bytes)\n",
    "\n",
    "# Get hexadecimal representation of the hash\n",
    "hash_hex = hash_object.hexdigest()\n",
    "\n",
    "# Convert hexadecimal representation to binary\n",
    "hash_bin = bin(int(hash_hex, 16))[2:].zfill(256)\n",
    "\n",
    "print(hash_bin)"
   ]
  },
  {
   "cell_type": "code",
   "execution_count": 62,
   "id": "38520b82",
   "metadata": {},
   "outputs": [
    {
     "name": "stdout",
     "output_type": "stream",
     "text": [
      "ce5b9de89aae819910dd2821e59bfb827d313c80783d6fe03c4969d1ad55718c\n"
     ]
    }
   ],
   "source": [
    "import hashlib\n",
    "\n",
    "message = \"0010011001001000111110110111011101001010101010100001010101110100100100111100001000001010101000010111011101101010001010011011010100001011011011101011011000000001010110000010100100111101001111010110111110111100111010011011000111000001011111111110011100011011\"\n",
    "\n",
    "# Convert binary message to byte string\n",
    "binary_bytes = bytes(int(message[i:i+8], 2) for i in range(0, len(message), 8))\n",
    "\n",
    "# Create hash object\n",
    "hash_object = hashlib.sha256()\n",
    "\n",
    "# Update hash object with binary_bytes\n",
    "hash_object.update(binary_bytes)\n",
    "\n",
    "# Get hexadecimal representation of the hash\n",
    "hash_hex = hash_object.hexdigest()\n",
    "\n",
    "print(hash_hex)"
   ]
  },
  {
   "attachments": {},
   "cell_type": "markdown",
   "id": "63988d04",
   "metadata": {},
   "source": [
    "Mitigating Noise on Real Quantum Computers"
   ]
  },
  {
   "cell_type": "code",
   "execution_count": 63,
   "id": "6d5711ae",
   "metadata": {},
   "outputs": [],
   "source": [
    "from qiskit import *"
   ]
  },
  {
   "cell_type": "code",
   "execution_count": 64,
   "id": "cad435a4",
   "metadata": {},
   "outputs": [
    {
     "data": {
      "text/plain": [
       "<qiskit.circuit.instructionset.InstructionSet at 0x7fe6b0569cf0>"
      ]
     },
     "execution_count": 64,
     "metadata": {},
     "output_type": "execute_result"
    }
   ],
   "source": [
    "nqubits = 3\n",
    "circuit = QuantumCircuit(nqubits, nqubits)\n",
    "circuit.h(0)\n",
    "circuit.cx(0,1)\n",
    "circuit.cx(1,2)\n",
    "circuit.measure([0,1,2], [0,1,2])"
   ]
  },
  {
   "cell_type": "code",
   "execution_count": 65,
   "id": "43cbbba0",
   "metadata": {},
   "outputs": [
    {
     "data": {
      "text/html": [
       "<pre style=\"word-wrap: normal;white-space: pre;background: #fff0;line-height: 1.1;font-family: &quot;Courier New&quot;,Courier,monospace\">     ┌───┐          ┌─┐      \n",
       "q_0: ┤ H ├──■───────┤M├──────\n",
       "     └───┘┌─┴─┐     └╥┘┌─┐   \n",
       "q_1: ─────┤ X ├──■───╫─┤M├───\n",
       "          └───┘┌─┴─┐ ║ └╥┘┌─┐\n",
       "q_2: ──────────┤ X ├─╫──╫─┤M├\n",
       "               └───┘ ║  ║ └╥┘\n",
       "c: 3/════════════════╩══╩══╩═\n",
       "                     0  1  2 </pre>"
      ],
      "text/plain": [
       "     ┌───┐          ┌─┐      \n",
       "q_0: ┤ H ├──■───────┤M├──────\n",
       "     └───┘┌─┴─┐     └╥┘┌─┐   \n",
       "q_1: ─────┤ X ├──■───╫─┤M├───\n",
       "          └───┘┌─┴─┐ ║ └╥┘┌─┐\n",
       "q_2: ──────────┤ X ├─╫──╫─┤M├\n",
       "               └───┘ ║  ║ └╥┘\n",
       "c: 3/════════════════╩══╩══╩═\n",
       "                     0  1  2 "
      ]
     },
     "execution_count": 65,
     "metadata": {},
     "output_type": "execute_result"
    }
   ],
   "source": [
    "%matplotlib inline\n",
    "circuit.draw()"
   ]
  },
  {
   "cell_type": "code",
   "execution_count": 66,
   "id": "15892f38",
   "metadata": {},
   "outputs": [],
   "source": [
    "simulator = Aer.get_backend('qasm_simulator')\n",
    "sim_result = execute(circuit, backend= simulator, shots=1024).result()"
   ]
  },
  {
   "cell_type": "code",
   "execution_count": 67,
   "id": "82d9517b",
   "metadata": {},
   "outputs": [],
   "source": [
    "from qiskit.visualization import  plot_histogram"
   ]
  },
  {
   "cell_type": "code",
   "execution_count": 68,
   "id": "b692fd28",
   "metadata": {},
   "outputs": [
    {
     "data": {
      "image/png": "[encoded data removed]",
      "text/plain": [
       "<Figure size 700x500 with 1 Axes>"
      ]
     },
     "execution_count": 68,
     "metadata": {},
     "output_type": "execute_result"
    }
   ],
   "source": [
    "plot_histogram(sim_result.get_counts(circuit))"
   ]
  },
  {
   "cell_type": "code",
   "execution_count": 69,
   "id": "0820174f",
   "metadata": {},
   "outputs": [
    {
     "name": "stderr",
     "output_type": "stream",
     "text": [
      "ibmqfactory.load_account:WARNING:2023-04-19 09:14:10,222: Credentials are already in use. The existing account in the session will be replaced.\n"
     ]
    }
   ],
   "source": [
    "IBMQ.load_account()\n",
    "provider = IBMQ.get_provider(hub='ibm-q')\n",
    "device = provider.get_backend('simulator_stabilizer') #5000 Qubits"
   ]
  },
  {
   "cell_type": "code",
   "execution_count": 70,
   "id": "6b577dff",
   "metadata": {},
   "outputs": [
    {
     "name": "stdout",
     "output_type": "stream",
     "text": [
      "cgvr1r7m7dri9b4oo55g\n",
      "Job Status: job has successfully run\n"
     ]
    }
   ],
   "source": [
    "job = execute(circuit, backend= device, shots= 1024)\n",
    "print(job.job_id())\n",
    "from qiskit.tools.monitor import job_monitor\n",
    "job_monitor(job)"
   ]
  },
  {
   "cell_type": "code",
   "execution_count": 71,
   "id": "6e7695ea",
   "metadata": {},
   "outputs": [
    {
     "data": {
      "image/png": "[encoded data removed]",
      "text/plain": [
       "<Figure size 700x500 with 1 Axes>"
      ]
     },
     "execution_count": 71,
     "metadata": {},
     "output_type": "execute_result"
    }
   ],
   "source": [
    "device_result = job.result()\n",
    "plot_histogram(device_result.get_counts(circuit))"
   ]
  },
  {
   "cell_type": "code",
   "execution_count": 72,
   "id": "652df0ee",
   "metadata": {},
   "outputs": [
    {
     "name": "stdout",
     "output_type": "stream",
     "text": [
      "Requirement already satisfied: qiskit.ignis in /usr/local/python/3.10.4/lib/python3.10/site-packages (0.7.1)\n",
      "Requirement already satisfied: setuptools>=40.1.0 in /home/codespace/.local/lib/python3.10/site-packages (from qiskit.ignis) (67.6.1)\n",
      "Requirement already satisfied: qiskit-terra>=0.15.1 in /usr/local/python/3.10.4/lib/python3.10/site-packages (from qiskit.ignis) (0.23.3)\n",
      "Requirement already satisfied: scipy!=0.19.1,>=0.19 in /home/codespace/.local/lib/python3.10/site-packages (from qiskit.ignis) (1.10.1)\n",
      "Requirement already satisfied: retworkx>=0.8.0 in /usr/local/python/3.10.4/lib/python3.10/site-packages (from qiskit.ignis) (0.12.1)\n",
      "Requirement already satisfied: numpy>=1.13 in /usr/local/python/3.10.4/lib/python3.10/site-packages (from qiskit.ignis) (1.23.5)\n",
      "Requirement already satisfied: ply>=3.10 in /usr/local/python/3.10.4/lib/python3.10/site-packages (from qiskit-terra>=0.15.1->qiskit.ignis) (3.11)\n",
      "Requirement already satisfied: psutil>=5 in /home/codespace/.local/lib/python3.10/site-packages (from qiskit-terra>=0.15.1->qiskit.ignis) (5.9.4)\n",
      "Requirement already satisfied: sympy>=1.3 in /home/codespace/.local/lib/python3.10/site-packages (from qiskit-terra>=0.15.1->qiskit.ignis) (1.11.1)\n",
      "Requirement already satisfied: stevedore>=3.0.0 in /usr/local/python/3.10.4/lib/python3.10/site-packages (from qiskit-terra>=0.15.1->qiskit.ignis) (5.0.0)\n",
      "Requirement already satisfied: python-dateutil>=2.8.0 in /home/codespace/.local/lib/python3.10/site-packages (from qiskit-terra>=0.15.1->qiskit.ignis) (2.8.2)\n",
      "Requirement already satisfied: dill>=0.3 in /usr/local/python/3.10.4/lib/python3.10/site-packages (from qiskit-terra>=0.15.1->qiskit.ignis) (0.3.6)\n",
      "Requirement already satisfied: symengine>=0.9 in /usr/local/python/3.10.4/lib/python3.10/site-packages (from qiskit-terra>=0.15.1->qiskit.ignis) (0.10.0)\n",
      "Requirement already satisfied: rustworkx>=0.12.0 in /usr/local/python/3.10.4/lib/python3.10/site-packages (from qiskit-terra>=0.15.1->qiskit.ignis) (0.12.1)\n",
      "Requirement already satisfied: six>=1.5 in /home/codespace/.local/lib/python3.10/site-packages (from python-dateutil>=2.8.0->qiskit-terra>=0.15.1->qiskit.ignis) (1.16.0)\n",
      "Requirement already satisfied: pbr!=2.1.0,>=2.0.0 in /usr/local/python/3.10.4/lib/python3.10/site-packages (from stevedore>=3.0.0->qiskit-terra>=0.15.1->qiskit.ignis) (5.11.1)\n",
      "Requirement already satisfied: mpmath>=0.19 in /home/codespace/.local/lib/python3.10/site-packages (from sympy>=1.3->qiskit-terra>=0.15.1->qiskit.ignis) (1.3.0)\n",
      "\n",
      "\u001b[1m[\u001b[0m\u001b[34;49mnotice\u001b[0m\u001b[1;39;49m]\u001b[0m\u001b[39;49m A new release of pip is available: \u001b[0m\u001b[31;49m23.0.1\u001b[0m\u001b[39;49m -> \u001b[0m\u001b[32;49m23.1\u001b[0m\n",
      "\u001b[1m[\u001b[0m\u001b[34;49mnotice\u001b[0m\u001b[1;39;49m]\u001b[0m\u001b[39;49m To update, run: \u001b[0m\u001b[32;49mpip install --upgrade pip\u001b[0m\n",
      "Note: you may need to restart the kernel to use updated packages.\n"
     ]
    }
   ],
   "source": [
    "pip install qiskit.ignis"
   ]
  },
  {
   "cell_type": "code",
   "execution_count": 73,
   "id": "7d6ff8b9",
   "metadata": {},
   "outputs": [],
   "source": [
    "from qiskit.ignis.mitigation.measurement import (complete_meas_cal, CompleteMeasFitter)"
   ]
  },
  {
   "cell_type": "code",
   "execution_count": 74,
   "id": "49337636",
   "metadata": {},
   "outputs": [],
   "source": [
    "cal_circuits, state_labels = complete_meas_cal(qr = circuit.qregs[0], circlabel = 'measerrormitigetioncal')"
   ]
  },
  {
   "cell_type": "code",
   "execution_count": 75,
   "id": "1d2099f8",
   "metadata": {},
   "outputs": [
    {
     "data": {
      "text/html": [
       "<pre style=\"word-wrap: normal;white-space: pre;background: #fff0;line-height: 1.1;font-family: &quot;Courier New&quot;,Courier,monospace\">            ░ ┌─┐      \n",
       " q_0: ──────░─┤M├──────\n",
       "      ┌───┐ ░ └╥┘┌─┐   \n",
       " q_1: ┤ X ├─░──╫─┤M├───\n",
       "      └───┘ ░  ║ └╥┘┌─┐\n",
       " q_2: ──────░──╫──╫─┤M├\n",
       "            ░  ║  ║ └╥┘\n",
       "c1: 3/═════════╩══╩══╩═\n",
       "               0  1  2 </pre>"
      ],
      "text/plain": [
       "            ░ ┌─┐      \n",
       " q_0: ──────░─┤M├──────\n",
       "      ┌───┐ ░ └╥┘┌─┐   \n",
       " q_1: ┤ X ├─░──╫─┤M├───\n",
       "      └───┘ ░  ║ └╥┘┌─┐\n",
       " q_2: ──────░──╫──╫─┤M├\n",
       "            ░  ║  ║ └╥┘\n",
       "c1: 3/═════════╩══╩══╩═\n",
       "               0  1  2 "
      ]
     },
     "execution_count": 75,
     "metadata": {},
     "output_type": "execute_result"
    }
   ],
   "source": [
    "cal_circuits[2].draw()"
   ]
  },
  {
   "cell_type": "code",
   "execution_count": 76,
   "id": "03420484",
   "metadata": {},
   "outputs": [
    {
     "data": {
      "text/plain": [
       "8"
      ]
     },
     "execution_count": 76,
     "metadata": {},
     "output_type": "execute_result"
    }
   ],
   "source": [
    "len(cal_circuits)"
   ]
  },
  {
   "cell_type": "code",
   "execution_count": 77,
   "id": "e0203721",
   "metadata": {},
   "outputs": [
    {
     "name": "stdout",
     "output_type": "stream",
     "text": [
      "cgvr1tfm7dri9b4oo9bg\n",
      "Job Status: job has successfully run\n"
     ]
    }
   ],
   "source": [
    "cal_job = execute(\n",
    "    cal_circuits,\n",
    "    backend = device,\n",
    "    shots = 1024,\n",
    "    optimization_level = 0\n",
    ")\n",
    "print(cal_job.job_id())\n",
    "job_monitor(cal_job)\n",
    "cal_results = cal_job.result()"
   ]
  },
  {
   "cell_type": "code",
   "execution_count": 78,
   "id": "05b4cf5e",
   "metadata": {},
   "outputs": [
    {
     "data": {
      "image/png": "[encoded data removed]",
      "text/plain": [
       "<Figure size 700x500 with 1 Axes>"
      ]
     },
     "execution_count": 78,
     "metadata": {},
     "output_type": "execute_result"
    }
   ],
   "source": [
    "plot_histogram(\n",
    "    cal_results.get_counts(cal_circuits[3])\n",
    ")"
   ]
  },
  {
   "cell_type": "code",
   "execution_count": 79,
   "id": "8500db67",
   "metadata": {},
   "outputs": [],
   "source": [
    "meas_fitter = CompleteMeasFitter(cal_results, state_labels)"
   ]
  },
  {
   "cell_type": "code",
   "execution_count": 80,
   "id": "74ab494c",
   "metadata": {},
   "outputs": [
    {
     "data": {
      "image/png": "[encoded data removed]",
      "text/plain": [
       "<Figure size 640x480 with 2 Axes>"
      ]
     },
     "metadata": {},
     "output_type": "display_data"
    }
   ],
   "source": [
    "meas_fitter.plot_calibration()"
   ]
  },
  {
   "cell_type": "code",
   "execution_count": 81,
   "id": "6378d667",
   "metadata": {},
   "outputs": [],
   "source": [
    "meas_fitter = meas_fitter.filter"
   ]
  },
  {
   "cell_type": "code",
   "execution_count": 82,
   "id": "4059bfcf",
   "metadata": {},
   "outputs": [],
   "source": [
    "#mitigated_result = meas_filter.apply(device_result)"
   ]
  },
  {
   "cell_type": "code",
   "execution_count": 83,
   "id": "e78d36d6",
   "metadata": {},
   "outputs": [],
   "source": [
    "#device_counts = device_result.get_counts(circuit)\n",
    "#mitigated_counts = mitigated_result.get_counts(circuit)\n",
    "#plot_histogram([device_counts, mitigated_counts], legend=['device, noisy', 'device, mitigated'])"
   ]
  },
  {
   "cell_type": "code",
   "execution_count": 84,
   "id": "0ad2c23c",
   "metadata": {},
   "outputs": [
    {
     "data": {
      "text/html": [
       "<pre style=\"word-wrap: normal;white-space: pre;background: #fff0;line-height: 1.1;font-family: &quot;Courier New&quot;,Courier,monospace\">     ┌───┐          ┌─┐      \n",
       "q_0: ┤ H ├──■───────┤M├──────\n",
       "     ├───┤┌─┴─┐     └╥┘┌─┐   \n",
       "q_1: ┤ X ├┤ X ├──■───╫─┤M├───\n",
       "     └───┘└───┘┌─┴─┐ ║ └╥┘┌─┐\n",
       "q_2: ──────────┤ X ├─╫──╫─┤M├\n",
       "               └───┘ ║  ║ └╥┘\n",
       "c: 3/════════════════╩══╩══╩═\n",
       "                     0  1  2 </pre>"
      ],
      "text/plain": [
       "     ┌───┐          ┌─┐      \n",
       "q_0: ┤ H ├──■───────┤M├──────\n",
       "     ├───┤┌─┴─┐     └╥┘┌─┐   \n",
       "q_1: ┤ X ├┤ X ├──■───╫─┤M├───\n",
       "     └───┘└───┘┌─┴─┐ ║ └╥┘┌─┐\n",
       "q_2: ──────────┤ X ├─╫──╫─┤M├\n",
       "               └───┘ ║  ║ └╥┘\n",
       "c: 3/════════════════╩══╩══╩═\n",
       "                     0  1  2 "
      ]
     },
     "execution_count": 84,
     "metadata": {},
     "output_type": "execute_result"
    }
   ],
   "source": [
    "circuit2 = QuantumCircuit(3,3)\n",
    "circuit2.x(1)\n",
    "circuit2.h(0)\n",
    "circuit2.cx(0,1)\n",
    "circuit2.cx(1,2)\n",
    "circuit2.measure([0,1,2], [0,1,2])\n",
    "circuit2.draw()"
   ]
  },
  {
   "cell_type": "code",
   "execution_count": 85,
   "id": "696338e1",
   "metadata": {},
   "outputs": [
    {
     "data": {
      "image/png": "[encoded data removed]",
      "text/plain": [
       "<Figure size 700x500 with 1 Axes>"
      ]
     },
     "execution_count": 85,
     "metadata": {},
     "output_type": "execute_result"
    }
   ],
   "source": [
    "plot_histogram(\n",
    "    execute(circuit2, backend=simulator, shots=1024).result().get_counts(circuit2)\n",
    ")"
   ]
  },
  {
   "cell_type": "code",
   "execution_count": 86,
   "id": "fcdf9901",
   "metadata": {},
   "outputs": [],
   "source": [
    "device_counts_2 = execute(circuit2, backend=device, shots=1024).result().get_counts(circuit2)"
   ]
  },
  {
   "cell_type": "code",
   "execution_count": 87,
   "id": "96f80c84",
   "metadata": {},
   "outputs": [
    {
     "data": {
      "image/png": "[encoded data removed]",
      "text/plain": [
       "<Figure size 700x500 with 1 Axes>"
      ]
     },
     "execution_count": 87,
     "metadata": {},
     "output_type": "execute_result"
    }
   ],
   "source": [
    "plot_histogram(device_counts_2)"
   ]
  },
  {
   "cell_type": "code",
   "execution_count": 88,
   "id": "87538eb0",
   "metadata": {},
   "outputs": [],
   "source": [
    "#device_mitigated_counts_2 = meas_filter.apply(device_counts_2)"
   ]
  },
  {
   "cell_type": "code",
   "execution_count": 89,
   "id": "0c93c1ac",
   "metadata": {},
   "outputs": [],
   "source": [
    "#plot_histogram(device_mitigated_counts_2)"
   ]
  },
  {
   "attachments": {},
   "cell_type": "markdown",
   "id": "bdeb0f1b",
   "metadata": {},
   "source": [
    "Quantum Games"
   ]
  },
  {
   "cell_type": "code",
   "execution_count": 90,
   "id": "37d81909",
   "metadata": {},
   "outputs": [],
   "source": [
    "#git clone https://github.com/JavaFXpert/QiskitBlocks.git"
   ]
  },
  {
   "attachments": {},
   "cell_type": "markdown",
   "id": "0337cfb9",
   "metadata": {},
   "source": [
    "Quantum Algorithms"
   ]
  },
  {
   "cell_type": "code",
   "execution_count": 91,
   "id": "5a3ea3ed",
   "metadata": {},
   "outputs": [],
   "source": [
    "import qiskit.quantum_info as qi\n",
    "from qiskit.circuit.library import FourierChecking\n",
    "from qiskit.visualization import plot_histogram"
   ]
  },
  {
   "cell_type": "code",
   "execution_count": 92,
   "id": "a6fdb652",
   "metadata": {},
   "outputs": [],
   "source": [
    "f=[1,-1,-1,-1]\n",
    "g=[1,1,-1,-1]"
   ]
  },
  {
   "cell_type": "code",
   "execution_count": 93,
   "id": "7c52d98f",
   "metadata": {},
   "outputs": [
    {
     "data": {
      "text/html": [
       "<pre style=\"word-wrap: normal;white-space: pre;background: #fff0;line-height: 1.1;font-family: &quot;Courier New&quot;,Courier,monospace\">     ┌──────────────────────────────────────┐\n",
       "q_0: ┤0                                     ├\n",
       "     │  fc: [1, -1, -1, -1], [1, 1, -1, -1] │\n",
       "q_1: ┤1                                     ├\n",
       "     └──────────────────────────────────────┘</pre>"
      ],
      "text/plain": [
       "     ┌──────────────────────────────────────┐\n",
       "q_0: ┤0                                     ├\n",
       "     │  fc: [1, -1, -1, -1], [1, 1, -1, -1] │\n",
       "q_1: ┤1                                     ├\n",
       "     └──────────────────────────────────────┘"
      ]
     },
     "execution_count": 93,
     "metadata": {},
     "output_type": "execute_result"
    }
   ],
   "source": [
    "circ = FourierChecking(f=f,g=g)\n",
    "circ.draw()"
   ]
  },
  {
   "cell_type": "code",
   "execution_count": 94,
   "id": "2230801b",
   "metadata": {},
   "outputs": [
    {
     "data": {
      "image/png": "[encoded data removed]",
      "text/plain": [
       "<Figure size 700x500 with 1 Axes>"
      ]
     },
     "execution_count": 94,
     "metadata": {},
     "output_type": "execute_result"
    }
   ],
   "source": [
    "zero = qi.Statevector.from_label('00')\n",
    "sv = zero.evolve(circ)\n",
    "probs = sv.probabilities_dict()\n",
    "plot_histogram(probs)"
   ]
  }
 ],
 "metadata": {
  "kernelspec": {
   "display_name": "Python 3.10.7 64-bit",
   "language": "python",
   "name": "python3"
  },
  "language_info": {
   "codemirror_mode": {
    "name": "ipython",
    "version": 3
   },
   "file_extension": ".py",
   "mimetype": "text/x-python",
   "name": "python",
   "nbconvert_exporter": "python",
   "pygments_lexer": "ipython3",
   "version": "3.10.4"
  },
  "vscode": {
   "interpreter": {
    "hash": "767d51c1340bd893661ea55ea3124f6de3c7a262a8b4abca0554b478b1e2ff90"
   }
  }
 },
 "nbformat": 4,
 "nbformat_minor": 5
}
