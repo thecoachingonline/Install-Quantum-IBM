{
 "cells": [
  {
   "cell_type": "code",
   "execution_count": null,
   "id": "c5ff991d",
   "metadata": {},
   "outputs": [],
   "source": [
    "pip install qiskit"
   ]
  },
  {
   "cell_type": "code",
   "execution_count": null,
   "id": "faa48c7f",
   "metadata": {},
   "outputs": [],
   "source": [
    "import qiskit"
   ]
  },
  {
   "cell_type": "code",
   "execution_count": null,
   "id": "c068529c",
   "metadata": {},
   "outputs": [],
   "source": [
    "qiskit.__qiskit_version__"
   ]
  },
  {
   "cell_type": "code",
   "execution_count": null,
   "id": "614cda2c",
   "metadata": {},
   "outputs": [],
   "source": [
    "from qiskit import IBMQ"
   ]
  },
  {
   "cell_type": "code",
   "execution_count": null,
   "id": "4edcbcd1",
   "metadata": {},
   "outputs": [],
   "source": [
    "IBMQ.save_account('')"
   ]
  },
  {
   "cell_type": "code",
   "execution_count": null,
   "id": "82b24434",
   "metadata": {},
   "outputs": [],
   "source": [
    "IBMQ.load_account()"
   ]
  },
  {
   "cell_type": "markdown",
   "id": "d621822f",
   "metadata": {},
   "source": []
  },
  {
   "cell_type": "markdown",
   "id": "a2ee273b",
   "metadata": {},
   "source": [
    "สวัสดีชาวโลก | Hello World"
   ]
  },
  {
   "cell_type": "code",
   "execution_count": null,
   "id": "55f914c0",
   "metadata": {},
   "outputs": [],
   "source": [
    "from qiskit import *"
   ]
  },
  {
   "cell_type": "code",
   "execution_count": null,
   "id": "4460d228",
   "metadata": {},
   "outputs": [],
   "source": [
    "qr = QuantumRegister(2)"
   ]
  },
  {
   "cell_type": "code",
   "execution_count": null,
   "id": "3396d7b8",
   "metadata": {},
   "outputs": [],
   "source": [
    "cr = ClassicalRegister(2)"
   ]
  },
  {
   "cell_type": "code",
   "execution_count": null,
   "id": "683d1c46",
   "metadata": {},
   "outputs": [],
   "source": [
    "circuit = QuantumCircuit(qr, cr)"
   ]
  },
  {
   "cell_type": "code",
   "execution_count": null,
   "id": "be022126",
   "metadata": {},
   "outputs": [],
   "source": [
    "%matplotlib inline"
   ]
  },
  {
   "cell_type": "code",
   "execution_count": null,
   "id": "612fc99b",
   "metadata": {},
   "outputs": [],
   "source": [
    "circuit.draw()"
   ]
  },
  {
   "cell_type": "code",
   "execution_count": null,
   "id": "44b762b4",
   "metadata": {},
   "outputs": [],
   "source": [
    "circuit.h(qr[0])"
   ]
  },
  {
   "cell_type": "code",
   "execution_count": null,
   "id": "320a14b2",
   "metadata": {},
   "outputs": [],
   "source": [
    "circuit.draw()"
   ]
  },
  {
   "cell_type": "code",
   "execution_count": null,
   "id": "67d99725",
   "metadata": {},
   "outputs": [],
   "source": [
    "circuit.cx(qr[0], qr[1])"
   ]
  },
  {
   "cell_type": "code",
   "execution_count": null,
   "id": "4ec7bff8",
   "metadata": {},
   "outputs": [],
   "source": [
    "circuit.draw()"
   ]
  },
  {
   "cell_type": "code",
   "execution_count": null,
   "id": "b9af1b78",
   "metadata": {},
   "outputs": [],
   "source": [
    "circuit.measure(qr, cr)"
   ]
  },
  {
   "cell_type": "code",
   "execution_count": null,
   "id": "dced64e0",
   "metadata": {},
   "outputs": [],
   "source": [
    "circuit.draw()"
   ]
  },
  {
   "cell_type": "code",
   "execution_count": null,
   "id": "78c73acc",
   "metadata": {},
   "outputs": [],
   "source": [
    "simulator = Aer.get_backend('qasm_simulator')"
   ]
  },
  {
   "cell_type": "code",
   "execution_count": null,
   "id": "cccda2d4",
   "metadata": {},
   "outputs": [],
   "source": [
    "result = execute(circuit, backend= simulator).result()"
   ]
  },
  {
   "cell_type": "code",
   "execution_count": null,
   "id": "31d986c9",
   "metadata": {},
   "outputs": [],
   "source": [
    "from qiskit.tools.visualization import plot_histogram"
   ]
  },
  {
   "cell_type": "code",
   "execution_count": null,
   "id": "5600ca6a",
   "metadata": {},
   "outputs": [],
   "source": [
    "plot_histogram(result.get_counts(circuit))"
   ]
  },
  {
   "cell_type": "code",
   "execution_count": null,
   "id": "412d14ca",
   "metadata": {},
   "outputs": [],
   "source": [
    "IBMQ.load_account()"
   ]
  },
  {
   "cell_type": "code",
   "execution_count": null,
   "id": "4a1973a3",
   "metadata": {},
   "outputs": [],
   "source": [
    "provider = IBMQ.get_provider('ibm-q')"
   ]
  },
  {
   "cell_type": "code",
   "execution_count": null,
   "id": "72d1286a",
   "metadata": {},
   "outputs": [],
   "source": [
    "qcomp = provider.get_backend('ibmq_belem')"
   ]
  },
  {
   "cell_type": "code",
   "execution_count": 68,
   "id": "753e3430",
   "metadata": {},
   "outputs": [],
   "source": [
    "job = execute(circuit, backend=qcomp)"
   ]
  },
  {
   "cell_type": "code",
   "execution_count": null,
   "id": "3f4297a8",
   "metadata": {},
   "outputs": [],
   "source": [
    "from qiskit.tools.monitor import job_monitor"
   ]
  },
  {
   "cell_type": "code",
   "execution_count": null,
   "id": "33d0574b",
   "metadata": {},
   "outputs": [],
   "source": [
    "job_monitor(job)"
   ]
  },
  {
   "cell_type": "code",
   "execution_count": null,
   "id": "313df131",
   "metadata": {},
   "outputs": [],
   "source": [
    "result = job.result()"
   ]
  },
  {
   "cell_type": "code",
   "execution_count": null,
   "id": "31810664",
   "metadata": {},
   "outputs": [],
   "source": [
    "plot_histogram(result.get_counts(circuit))"
   ]
  },
  {
   "attachments": {},
   "cell_type": "markdown",
   "id": "3516f111",
   "metadata": {},
   "source": [
    "ลอจิกเกต | Gates"
   ]
  }
 ],
 "metadata": {
  "kernelspec": {
   "display_name": "Python 3.10.7 64-bit",
   "language": "python",
   "name": "python3"
  },
  "language_info": {
   "codemirror_mode": {
    "name": "ipython",
    "version": 3
   },
   "file_extension": ".py",
   "mimetype": "text/x-python",
   "name": "python",
   "nbconvert_exporter": "python",
   "pygments_lexer": "ipython3",
   "version": "3.10.4"
  },
  "vscode": {
   "interpreter": {
    "hash": "767d51c1340bd893661ea55ea3124f6de3c7a262a8b4abca0554b478b1e2ff90"
   }
  }
 },
 "nbformat": 4,
 "nbformat_minor": 5
}
